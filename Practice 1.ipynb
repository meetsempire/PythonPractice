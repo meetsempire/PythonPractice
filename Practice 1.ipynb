{
 "cells": [
  {
   "cell_type": "code",
   "execution_count": 6,
   "id": "5e6dc13f",
   "metadata": {},
   "outputs": [
    {
     "name": "stdout",
     "output_type": "stream",
     "text": [
      "<class 'int'>\n",
      "<class 'float'>\n",
      "<class 'bool'>\n",
      "<class 'str'>\n",
      "<class 'int'>\n",
      "<class 'str'>\n",
      "<class 'str'>\n",
      "<class 'float'>\n",
      "<class 'int'>\n",
      "<class 'set'>\n",
      "<class 'bool'>\n",
      "<class 'float'>\n"
     ]
    }
   ],
   "source": [
    "# importing math directory \n",
    "import math\n",
    "\n",
    "print(type(5))\n",
    "print(type(5.0))\n",
    "print(type(5>1))\n",
    "print(type('5'))\n",
    "print(type(5 * 2))\n",
    "print(type('5' * 2))\n",
    "print(type('5' + '2'))\n",
    "print(type(5 / 2))\n",
    "print(type(5 % 2))\n",
    "print(type({5, 2, 1}))\n",
    "print(type(5 == 3))\n",
    "\n",
    "#using math directory for getting data type of pie\n",
    "print(type(math.pi))"
   ]
  },
  {
   "cell_type": "code",
   "execution_count": 5,
   "id": "94487f6a",
   "metadata": {},
   "outputs": [
    {
     "name": "stdout",
     "output_type": "stream",
     "text": [
      "34\n"
     ]
    }
   ],
   "source": [
    "word = \"Supercalifragilisticexpialidocious\"\n",
    "length = len(word)  # len() is used for counting numbers of words in the letter\n",
    "print(f\"{length}\")"
   ]
  },
  {
   "cell_type": "code",
   "execution_count": 15,
   "id": "aaa9699c",
   "metadata": {},
   "outputs": [
    {
     "name": "stdout",
     "output_type": "stream",
     "text": [
      "The substring 'ice' is in the subject string.\n"
     ]
    }
   ],
   "source": [
    "subject_string = 'Supercalifragilisticexpialidocious'\n",
    "\n",
    "# Define the substring to check for\n",
    "substring = 'ice'\n",
    "\n",
    "# Use the 'in' keyword to check if the substring is in the main string\n",
    "if substring in subject_string:\n",
    "    print(f\"The substring '{substring}' is in the subject string.\")\n",
    "else:\n",
    "    print(f\"The substring '{substring}' is not in the subject string.\")\n"
   ]
  },
  {
   "cell_type": "code",
   "execution_count": 10,
   "id": "63a39449",
   "metadata": {},
   "outputs": [
    {
     "name": "stdout",
     "output_type": "stream",
     "text": [
      "The longest word is: Bababadalgharaghtakamminarronnkonn\n"
     ]
    }
   ],
   "source": [
    "word1 = 'Supercalifragilisticexpialidocious'\n",
    "word2 = 'Honorificabilitudinitatibus'\n",
    "word3 = 'Bababadalgharaghtakamminarronnkonn'\n",
    "\n",
    "# Calculate the lengths of the words\n",
    "length1 = len(word1)\n",
    "length2 = len(word2)\n",
    "length3 = len(word3)\n",
    "\n",
    "# Compare the length of word 1 with 2 & 3 , if it is the biggest then end the loop\n",
    "if length1 > length2 and length1 > length3:\n",
    "    biggest_word = word1\n",
    "    \n",
    "# Compare the length of word 2 with 1 & 3 , if it is the biggest then end the loop    \n",
    "elif length2 > length1 and length2 > length3:\n",
    "    biggest_word = word2\n",
    "    \n",
    "# end the loop as word 3 is the biggest word    \n",
    "else:\n",
    "    biggest_word = word3\n",
    "\n",
    "# Print the longest word , we got 'Bababadalgharaghtakamminarronnkonn' as the biggest word because its in the final loop.\n",
    "print(f\"The longest word is: {biggest_word}\")\n"
   ]
  },
  {
   "cell_type": "code",
   "execution_count": 12,
   "id": "9b997143",
   "metadata": {},
   "outputs": [
    {
     "name": "stdout",
     "output_type": "stream",
     "text": [
      "The first composer in the dictionary is: Bartok\n",
      "The last composer in the dictionary is: Buxtehude\n"
     ]
    }
   ],
   "source": [
    "# make a composer name and define a list\n",
    "composers = ['Berlioz', 'Borodin', 'Brian', 'Bartok', 'Bellini', 'Buxtehude', 'Bernstein']\n",
    "\n",
    "# Find the composer that comes first according to alphabetical manner\n",
    "first_composer = min(composers)\n",
    "\n",
    "# Find the composer that comes last according to alphabetical manner\n",
    "last_composer = max(composers)\n",
    "\n",
    "# Print the results\n",
    "print(f\"The first composer in the dictionary is: {first_composer}\")\n",
    "print(f\"The last composer in the dictionary is: {last_composer}\")\n"
   ]
  },
  {
   "cell_type": "code",
   "execution_count": 18,
   "id": "4ff40179",
   "metadata": {},
   "outputs": [
    {
     "name": "stdout",
     "output_type": "stream",
     "text": [
      "area of the triangle with side lengths 2, 2, and 2 is: 1.7320508075688772\n"
     ]
    }
   ],
   "source": [
    "# importinf math for square root meathod\n",
    "import math\n",
    "\n",
    "def triangle_area(a, b, c):\n",
    "    # Calculating the semi-perimeter 's'\n",
    "    s = (a + b + c) / 2\n",
    "    \n",
    "    # Calculating the area using Heron's formula\n",
    "    area = math.sqrt(s * (s - a) * (s - b) * (s - c))\n",
    "    \n",
    "    return area\n",
    "\n",
    "# Test the function with example side lengths\n",
    "x = 2\n",
    "y = 2\n",
    "z = 2\n",
    "area = triangle_area(a, b, c)\n",
    "print(f\"area of the triangle with side lengths {x}, {y}, and {z} is: {area}\")\n"
   ]
  },
  {
   "cell_type": "code",
   "execution_count": 23,
   "id": "5b4f5012",
   "metadata": {},
   "outputs": [
    {
     "name": "stdout",
     "output_type": "stream",
     "text": [
      "How many numbers you want to store in the array: 5\n",
      "Input 5 elements in the array:\n",
      "num - 0 :3\n",
      "num - 1 :4\n",
      "num - 2 :5\n",
      "num - 3 :6\n",
      "num - 4 :7\n",
      "Odd numbers: [3, 5, 7]\n",
      "Even numbers: [4, 6]\n"
     ]
    }
   ],
   "source": [
    "# Input the number of elements to be stored in the array\n",
    "num_elements = int(input(\"How many numbers you want to store in the array: \"))\n",
    "\n",
    "# Initialize empty lists for odd and even numbers\n",
    "odd_numbers = []\n",
    "even_numbers = []\n",
    "\n",
    "# Input elements into the array\n",
    "print(\"Input {} elements in the array:\".format(num_elements))\n",
    "for i in range(num_elements):\n",
    "    element = int(input(f\"num - {i} :\"))\n",
    "    if element % 2 == 0:\n",
    "        even_numbers.append(element)\n",
    "    else:\n",
    "        odd_numbers.append(element)\n",
    "\n",
    "# Print the separated arrays\n",
    "print(\"Odd numbers:\", odd_numbers)\n",
    "print(\"Even numbers:\", even_numbers)\n",
    "\n"
   ]
  },
  {
   "cell_type": "code",
   "execution_count": 28,
   "id": "cf69f05f",
   "metadata": {},
   "outputs": [],
   "source": [
    "def inside(x, y, x1, y1, x2, y2):\n",
    "    # Check if (x, y) is inside the the rectangle boundary\n",
    "    if x1 <= x <= x2 and y1 <= y <= y2:\n",
    "        print(True)\n",
    "    else:\n",
    "        print(False)"
   ]
  },
  {
   "cell_type": "code",
   "execution_count": 30,
   "id": "2e25d8f4",
   "metadata": {},
   "outputs": [
    {
     "name": "stdout",
     "output_type": "stream",
     "text": [
      "True\n",
      "False\n"
     ]
    }
   ],
   "source": [
    "inside(1,1,0,0,2,3)\n",
    "inside(-1,-1,0,0,2,3)"
   ]
  },
  {
   "cell_type": "code",
   "execution_count": 35,
   "id": "757e1622",
   "metadata": {},
   "outputs": [
    {
     "name": "stdout",
     "output_type": "stream",
     "text": [
      "False\n"
     ]
    }
   ],
   "source": [
    "# Define the coordinates of the point (1, 1)\n",
    "x = 1\n",
    "y = 1\n",
    "\n",
    "# Define the coordinates of the first rectangle\n",
    "x1_rectangle1 = 0.3\n",
    "y1_rectangle1 = 0.5\n",
    "x2_rectangle1 = 1.1\n",
    "y2_rectangle1 = 0.7\n",
    "\n",
    "# Define the coordinates of the second rectangle\n",
    "x1_rectangle2 = 0.5\n",
    "y1_rectangle2 = 0.2\n",
    "x2_rectangle2 = 1.1\n",
    "y2_rectangle2 = 2\n",
    "\n",
    "\n",
    "#the ans. will be no as , yes and no will be no as output \n",
    "if is_inside_rectangle1 and is_inside_rectangle2:\n",
    "    print(\"True\")\n",
    "else:\n",
    "    print(\"False\")\n"
   ]
  },
  {
   "cell_type": "code",
   "execution_count": 37,
   "id": "c59edffa",
   "metadata": {},
   "outputs": [
    {
     "name": "stdout",
     "output_type": "stream",
     "text": [
      "appyhay\n",
      "eetmay\n",
      "anktipay\n"
     ]
    }
   ],
   "source": [
    "def pig(word):\n",
    "    # Convert the word to lowercase\n",
    "    word = word.lower()\n",
    "    \n",
    "    # word starts with a vowel\n",
    "    vowels = \"aeiou\"\n",
    "    if word[0] in vowels:\n",
    "        return word + \"way\"\n",
    "    else:\n",
    "        # Find the index of the first vowel\n",
    "        index = 0\n",
    "        for i, char in enumerate(word):\n",
    "            if char in vowels:\n",
    "                index = i\n",
    "                break\n",
    "        \n",
    "        # Create the pig-Latin word based on the rules\n",
    "        pig_latin = word[index:] + word[:index] + \"ay\"\n",
    "        return pig_latin\n",
    "\n",
    "# Test cases\n",
    "print(pig(\"happy\"))  # Output: \"appyhay\"\n",
    "print(pig(\"meet\"))  # Output: \"eetmay\"\n",
    "print(pig(\"pankti\"))  # Output: \"anktipay\"\n"
   ]
  },
  {
   "cell_type": "code",
   "execution_count": 25,
   "id": "fe29eeb0",
   "metadata": {},
   "outputs": [],
   "source": [
    "def bldcount(filename):\n",
    "    file_open = open(filename)\n",
    "    File = file_open.read()\n",
    "    A = File.split().count('A')\n",
    "    AB = File.split().count('AB')\n",
    "    O = File.split().count('O')\n",
    "    OO = File.split().count('OO')\n",
    "    B = File.split().count('B')\n",
    "\n",
    "    print(\"There are\", A, \"of blood group A\")\n",
    "    print(\"There are\", AB, \"of blood group AB\")\n",
    "    print(\"There are\", B, \"of blood group B\")\n",
    "    print(\"There are\", O, \"of blood group O\")\n",
    "    print(\"There are\", OO, \"of blood group OO\")"
   ]
  },
  {
   "cell_type": "code",
   "execution_count": 26,
   "id": "a0816384",
   "metadata": {},
   "outputs": [
    {
     "name": "stdout",
     "output_type": "stream",
     "text": [
      "There are 15 of blood group A\n",
      "There are 13 of blood group AB\n",
      "There are 1 of blood group B\n",
      "There are 15 of blood group O\n",
      "There are 0 of blood group OO\n"
     ]
    }
   ],
   "source": [
    "bldcount('bloodtype1.txt')"
   ]
  },
  {
   "cell_type": "code",
   "execution_count": 50,
   "id": "3a6356db",
   "metadata": {},
   "outputs": [],
   "source": [
    "def curnov(country,value):\n",
    "    File_name = open(\"currencies.txt\")\n",
    "    cr = File_name.read().split(\"\\n\")\n",
    "    dctionary = {}\n",
    "    for i in cr:\n",
    "        i1 = i.split(\"\\t\")\n",
    "        dctionary[i1[0]]= i1[1]\n",
    "    print(\"Your\", value, country, \"will be\", float(dctionary[country])*value, \"USD\")\n",
    "    "
   ]
  },
  {
   "cell_type": "code",
   "execution_count": 51,
   "id": "461987c1",
   "metadata": {},
   "outputs": [
    {
     "name": "stdout",
     "output_type": "stream",
     "text": [
      "Your 100 INR will be 1.77643 USD\n"
     ]
    }
   ],
   "source": [
    "curnov(\"INR\", 100)"
   ]
  },
  {
   "cell_type": "code",
   "execution_count": 52,
   "id": "a3f294ef",
   "metadata": {},
   "outputs": [
    {
     "ename": "TypeError",
     "evalue": "unsupported operand type(s) for +: 'int' and 'str'",
     "output_type": "error",
     "traceback": [
      "\u001b[1;31m---------------------------------------------------------------------------\u001b[0m",
      "\u001b[1;31mTypeError\u001b[0m                                 Traceback (most recent call last)",
      "Cell \u001b[1;32mIn[52], line 1\u001b[0m\n\u001b[1;32m----> 1\u001b[0m \u001b[38;5;28mprint\u001b[39m (\u001b[38;5;241m6\u001b[39m \u001b[38;5;241m+\u001b[39m \u001b[38;5;124m'\u001b[39m\u001b[38;5;124ma\u001b[39m\u001b[38;5;124m'\u001b[39m)\n\u001b[0;32m      3\u001b[0m Practice_list \u001b[38;5;241m=\u001b[39m [\u001b[38;5;241m10\u001b[39m,\u001b[38;5;241m4\u001b[39m,\u001b[38;5;241m234\u001b[39m,\u001b[38;5;241m65\u001b[39m,\u001b[38;5;241m23\u001b[39m,\u001b[38;5;241m87\u001b[39m,\u001b[38;5;241m3\u001b[39m,\u001b[38;5;241m0\u001b[39m,\u001b[38;5;241m777\u001b[39m,\u001b[38;5;241m5\u001b[39m]\n\u001b[0;32m      4\u001b[0m \u001b[38;5;28mprint\u001b[39m(practice_list[\u001b[38;5;241m12\u001b[39m])\n",
      "\u001b[1;31mTypeError\u001b[0m: unsupported operand type(s) for +: 'int' and 'str'"
     ]
    }
   ],
   "source": [
    "print (6 + 'a')\n",
    "\n",
    "Practice_list = [10,4,234,65,23,87,3,0,777,5]\n",
    "print(practice_list[12])\n",
    "\n",
    "print(math.sqrt(-1.0))\n",
    "\n",
    "print(x)\n",
    "\n",
    "File = open('georgian.txt')"
   ]
  },
  {
   "cell_type": "code",
   "execution_count": 53,
   "id": "65c51ddf",
   "metadata": {},
   "outputs": [
    {
     "name": "stdout",
     "output_type": "stream",
     "text": [
      "[1, 1, 1, 3, 5, 1, 1, 2, 1, 0, 1, 0, 1, 2, 4, 0, 1, 2, 0, 2, 1, 0, 1, 1, 0, 0]\n"
     ]
    }
   ],
   "source": [
    "def frequencies(sentence):\n",
    "# creating array of 26    \n",
    "    freq = [0]*26                           \n",
    "# for loop for iterating over the user input string    \n",
    "    for i in sentence:                        \n",
    "        if i == \" \":                         \n",
    "            continue\n",
    "        ascii_value = ord(i) - ord(\"a\")     \n",
    "# adding 1 to charachter respective index value.        \n",
    "        freq[ascii_value] += 1              \n",
    "    print(freq)\n",
    "        \n",
    "frequencies(\"The quick red fox got bored and went home\")"
   ]
  }
 ],
 "metadata": {
  "kernelspec": {
   "display_name": "Python 3 (ipykernel)",
   "language": "python",
   "name": "python3"
  },
  "language_info": {
   "codemirror_mode": {
    "name": "ipython",
    "version": 3
   },
   "file_extension": ".py",
   "mimetype": "text/x-python",
   "name": "python",
   "nbconvert_exporter": "python",
   "pygments_lexer": "ipython3",
   "version": "3.11.4"
  }
 },
 "nbformat": 4,
 "nbformat_minor": 5
}
