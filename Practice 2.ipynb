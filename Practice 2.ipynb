{
 "cells": [
  {
   "cell_type": "code",
   "execution_count": 21,
   "id": "3fba72be",
   "metadata": {},
   "outputs": [
    {
     "name": "stdout",
     "output_type": "stream",
     "text": [
      "Question 1\n"
     ]
    }
   ],
   "source": [
    "print(\"Question 1\")\n",
    "import pandas as pd"
   ]
  },
  {
   "cell_type": "code",
   "execution_count": 22,
   "id": "1afdb10f",
   "metadata": {},
   "outputs": [],
   "source": [
    "url = \"https://raw.githubusercontent.com/justmarkham/DAT8/master/data/u.user\"\n",
    "users = pd.read_csv(url, sep='|', index_col='user_id')"
   ]
  },
  {
   "cell_type": "code",
   "execution_count": 23,
   "id": "8fd04111",
   "metadata": {},
   "outputs": [],
   "source": [
    "mean_age_per_occupation = users.groupby('occupation')['age'].mean()"
   ]
  },
  {
   "cell_type": "code",
   "execution_count": 24,
   "id": "f15e1dc5",
   "metadata": {},
   "outputs": [],
   "source": [
    "male_ratio_per_occupation = users.groupby('occupation')['gender'].apply(lambda x: (x == 'M').sum() / x.count())\n",
    "male_ratio_per_occupation = male_ratio_per_occupation.sort_values(ascending=False)"
   ]
  },
  {
   "cell_type": "code",
   "execution_count": 25,
   "id": "b778a74b",
   "metadata": {},
   "outputs": [],
   "source": [
    "min_max_age_per_occupation = users.groupby('occupation')['age'].agg(['min', 'max'])"
   ]
  },
  {
   "cell_type": "code",
   "execution_count": 26,
   "id": "11103142",
   "metadata": {},
   "outputs": [],
   "source": [
    "mean_age_per_combination = users.groupby(['occupation', 'gender'])['age'].mean()"
   ]
  },
  {
   "cell_type": "code",
   "execution_count": 27,
   "id": "d9463c4d",
   "metadata": {},
   "outputs": [],
   "source": [
    "gender_percentage_per_occupation = users.groupby(['occupation', 'gender']).size() / users.groupby('occupation').size()"
   ]
  },
  {
   "cell_type": "code",
   "execution_count": 28,
   "id": "9fa198f6",
   "metadata": {},
   "outputs": [
    {
     "name": "stdout",
     "output_type": "stream",
     "text": [
      "Mean age per occupation:\n",
      "occupation\n",
      "administrator    38.746835\n",
      "artist           31.392857\n",
      "doctor           43.571429\n",
      "educator         42.010526\n",
      "engineer         36.388060\n",
      "entertainment    29.222222\n",
      "executive        38.718750\n",
      "healthcare       41.562500\n",
      "homemaker        32.571429\n",
      "lawyer           36.750000\n",
      "librarian        40.000000\n",
      "marketing        37.615385\n",
      "none             26.555556\n",
      "other            34.523810\n",
      "programmer       33.121212\n",
      "retired          63.071429\n",
      "salesman         35.666667\n",
      "scientist        35.548387\n",
      "student          22.081633\n",
      "technician       33.148148\n",
      "writer           36.311111\n",
      "Name: age, dtype: float64\n"
     ]
    }
   ],
   "source": [
    "print(\"Mean age per occupation:\")\n",
    "print(mean_age_per_occupation)"
   ]
  },
  {
   "cell_type": "code",
   "execution_count": 29,
   "id": "ad387adf",
   "metadata": {},
   "outputs": [
    {
     "name": "stdout",
     "output_type": "stream",
     "text": [
      "\n",
      "Male ratio per occupation (sorted):\n",
      "occupation\n",
      "doctor           1.000000\n",
      "engineer         0.970149\n",
      "technician       0.962963\n",
      "retired          0.928571\n",
      "programmer       0.909091\n",
      "executive        0.906250\n",
      "scientist        0.903226\n",
      "entertainment    0.888889\n",
      "lawyer           0.833333\n",
      "salesman         0.750000\n",
      "educator         0.726316\n",
      "student          0.693878\n",
      "other            0.657143\n",
      "marketing        0.615385\n",
      "writer           0.577778\n",
      "none             0.555556\n",
      "administrator    0.544304\n",
      "artist           0.535714\n",
      "librarian        0.431373\n",
      "healthcare       0.312500\n",
      "homemaker        0.142857\n",
      "Name: gender, dtype: float64\n"
     ]
    }
   ],
   "source": [
    "print(\"\\nMale ratio per occupation (sorted):\")\n",
    "print(male_ratio_per_occupation)"
   ]
  },
  {
   "cell_type": "code",
   "execution_count": 30,
   "id": "a4aa4105",
   "metadata": {},
   "outputs": [
    {
     "name": "stdout",
     "output_type": "stream",
     "text": [
      "\n",
      "Minimum and maximum ages per occupation:\n",
      "               min  max\n",
      "occupation             \n",
      "administrator   21   70\n",
      "artist          19   48\n",
      "doctor          28   64\n",
      "educator        23   63\n",
      "engineer        22   70\n",
      "entertainment   15   50\n",
      "executive       22   69\n",
      "healthcare      22   62\n",
      "homemaker       20   50\n",
      "lawyer          21   53\n",
      "librarian       23   69\n",
      "marketing       24   55\n",
      "none            11   55\n",
      "other           13   64\n",
      "programmer      20   63\n",
      "retired         51   73\n",
      "salesman        18   66\n",
      "scientist       23   55\n",
      "student          7   42\n",
      "technician      21   55\n",
      "writer          18   60\n"
     ]
    }
   ],
   "source": [
    "print(\"\\nMinimum and maximum ages per occupation:\")\n",
    "print(min_max_age_per_occupation)"
   ]
  },
  {
   "cell_type": "code",
   "execution_count": 31,
   "id": "86ca5ad0",
   "metadata": {},
   "outputs": [
    {
     "name": "stdout",
     "output_type": "stream",
     "text": [
      "\n",
      "Mean age per occupation and sex:\n",
      "occupation     gender\n",
      "administrator  F         40.638889\n",
      "               M         37.162791\n",
      "artist         F         30.307692\n",
      "               M         32.333333\n",
      "doctor         M         43.571429\n",
      "educator       F         39.115385\n",
      "               M         43.101449\n",
      "engineer       F         29.500000\n",
      "               M         36.600000\n",
      "entertainment  F         31.000000\n",
      "               M         29.000000\n",
      "executive      F         44.000000\n",
      "               M         38.172414\n",
      "healthcare     F         39.818182\n",
      "               M         45.400000\n",
      "homemaker      F         34.166667\n",
      "               M         23.000000\n",
      "lawyer         F         39.500000\n",
      "               M         36.200000\n",
      "librarian      F         40.000000\n",
      "               M         40.000000\n",
      "marketing      F         37.200000\n",
      "               M         37.875000\n",
      "none           F         36.500000\n",
      "               M         18.600000\n",
      "other          F         35.472222\n",
      "               M         34.028986\n",
      "programmer     F         32.166667\n",
      "               M         33.216667\n",
      "retired        F         70.000000\n",
      "               M         62.538462\n",
      "salesman       F         27.000000\n",
      "               M         38.555556\n",
      "scientist      F         28.333333\n",
      "               M         36.321429\n",
      "student        F         20.750000\n",
      "               M         22.669118\n",
      "technician     F         38.000000\n",
      "               M         32.961538\n",
      "writer         F         37.631579\n",
      "               M         35.346154\n",
      "Name: age, dtype: float64\n"
     ]
    }
   ],
   "source": [
    "print(\"\\nMean age per occupation and sex:\")\n",
    "print(mean_age_per_combination)"
   ]
  },
  {
   "cell_type": "code",
   "execution_count": 32,
   "id": "9fd65a10",
   "metadata": {},
   "outputs": [
    {
     "name": "stdout",
     "output_type": "stream",
     "text": [
      "\n",
      "Percentage of women and men per occupation:\n",
      "occupation     gender\n",
      "administrator  F         0.455696\n",
      "               M         0.544304\n",
      "artist         F         0.464286\n",
      "               M         0.535714\n",
      "doctor         M         1.000000\n",
      "educator       F         0.273684\n",
      "               M         0.726316\n",
      "engineer       F         0.029851\n",
      "               M         0.970149\n",
      "entertainment  F         0.111111\n",
      "               M         0.888889\n",
      "executive      F         0.093750\n",
      "               M         0.906250\n",
      "healthcare     F         0.687500\n",
      "               M         0.312500\n",
      "homemaker      F         0.857143\n",
      "               M         0.142857\n",
      "lawyer         F         0.166667\n",
      "               M         0.833333\n",
      "librarian      F         0.568627\n",
      "               M         0.431373\n",
      "marketing      F         0.384615\n",
      "               M         0.615385\n",
      "none           F         0.444444\n",
      "               M         0.555556\n",
      "other          F         0.342857\n",
      "               M         0.657143\n",
      "programmer     F         0.090909\n",
      "               M         0.909091\n",
      "retired        F         0.071429\n",
      "               M         0.928571\n",
      "salesman       F         0.250000\n",
      "               M         0.750000\n",
      "scientist      F         0.096774\n",
      "               M         0.903226\n",
      "student        F         0.306122\n",
      "               M         0.693878\n",
      "technician     F         0.037037\n",
      "               M         0.962963\n",
      "writer         F         0.422222\n",
      "               M         0.577778\n",
      "dtype: float64\n"
     ]
    }
   ],
   "source": [
    "print(\"\\nPercentage of women and men per occupation:\")\n",
    "print(gender_percentage_per_occupation)"
   ]
  },
  {
   "cell_type": "code",
   "execution_count": 195,
   "id": "a9a76498",
   "metadata": {},
   "outputs": [
    {
     "name": "stdout",
     "output_type": "stream",
     "text": [
      "Question 2\n"
     ]
    }
   ],
   "source": [
    "print(\"Question 2\")"
   ]
  },
  {
   "cell_type": "code",
   "execution_count": 196,
   "id": "aa119b0d",
   "metadata": {},
   "outputs": [],
   "source": [
    "url = \"https://raw.githubusercontent.com/guipsamora/pandas_exercises/master/02_Filtering_%26_Sorting/Euro12/Euro_2012_stats_TEAM.csv\"\n",
    "euro12 = pd.read_csv(url)"
   ]
  },
  {
   "cell_type": "code",
   "execution_count": 197,
   "id": "3b131c6f",
   "metadata": {},
   "outputs": [],
   "source": [
    "goals = euro12['Goals']"
   ]
  },
  {
   "cell_type": "code",
   "execution_count": 198,
   "id": "4a98349f",
   "metadata": {},
   "outputs": [],
   "source": [
    "num_teams = euro12['Team'].nunique()"
   ]
  },
  {
   "cell_type": "code",
   "execution_count": 199,
   "id": "e6629d14",
   "metadata": {},
   "outputs": [],
   "source": [
    "num_columns = len(euro12.columns)"
   ]
  },
  {
   "cell_type": "code",
   "execution_count": 200,
   "id": "68ce03e6",
   "metadata": {},
   "outputs": [],
   "source": [
    "discipline = euro12[['Team', 'Yellow Cards', 'Red Cards']]"
   ]
  },
  {
   "cell_type": "code",
   "execution_count": 201,
   "id": "f13029b4",
   "metadata": {},
   "outputs": [],
   "source": [
    "discipline_sorted = discipline.sort_values(by=['Red Cards', 'Yellow Cards'], ascending=[False, False])"
   ]
  },
  {
   "cell_type": "code",
   "execution_count": 202,
   "id": "f9377551",
   "metadata": {},
   "outputs": [],
   "source": [
    "mean_yellow_cards = euro12['Yellow Cards'].mean()"
   ]
  },
  {
   "cell_type": "code",
   "execution_count": 203,
   "id": "1a7244f8",
   "metadata": {},
   "outputs": [],
   "source": [
    "teams_over_6_goals = euro12[euro12['Goals'] > 6]"
   ]
  },
  {
   "cell_type": "code",
   "execution_count": 204,
   "id": "39649d2c",
   "metadata": {},
   "outputs": [],
   "source": [
    "teams_starting_with_G = euro12[euro12['Team'].str.startswith('G')]"
   ]
  },
  {
   "cell_type": "code",
   "execution_count": 205,
   "id": "69471555",
   "metadata": {},
   "outputs": [],
   "source": [
    "first_7_columns = euro12.iloc[:, :7]"
   ]
  },
  {
   "cell_type": "code",
   "execution_count": 206,
   "id": "a8f69ce3",
   "metadata": {},
   "outputs": [],
   "source": [
    "all_except_last_3_columns = euro12.iloc[:, :-3]"
   ]
  },
  {
   "cell_type": "code",
   "execution_count": 207,
   "id": "6647c6cb",
   "metadata": {},
   "outputs": [],
   "source": [
    "selected_teams = ['England', 'Italy', 'Russia']\n",
    "shooting_accuracy_selected_teams = euro12[euro12['Team'].isin(selected_teams)][['Team', 'Shooting Accuracy']]"
   ]
  },
  {
   "cell_type": "code",
   "execution_count": 208,
   "id": "f79989f6",
   "metadata": {},
   "outputs": [
    {
     "name": "stdout",
     "output_type": "stream",
     "text": [
      "Number of teams in Euro2012: 16\n"
     ]
    }
   ],
   "source": [
    "print(\"Number of teams in Euro2012:\", num_teams)"
   ]
  },
  {
   "cell_type": "code",
   "execution_count": 209,
   "id": "5d5abc10",
   "metadata": {},
   "outputs": [
    {
     "name": "stdout",
     "output_type": "stream",
     "text": [
      "Number of columns in the dataset: 35\n"
     ]
    }
   ],
   "source": [
    "print(\"Number of columns in the dataset:\", num_columns)"
   ]
  },
  {
   "cell_type": "code",
   "execution_count": 210,
   "id": "8fd96b7a",
   "metadata": {},
   "outputs": [
    {
     "name": "stdout",
     "output_type": "stream",
     "text": [
      "\n",
      "Discipline dataframe:\n",
      "                    Team  Yellow Cards  Red Cards\n",
      "0               Croatia             9          0\n",
      "1        Czech Republic             7          0\n",
      "2               Denmark             4          0\n",
      "3               England             5          0\n",
      "4                France             6          0\n",
      "5               Germany             4          0\n",
      "6                Greece             9          1\n",
      "7                 Italy            16          0\n",
      "8           Netherlands             5          0\n",
      "9                Poland             7          1\n",
      "10             Portugal            12          0\n",
      "11  Republic of Ireland             6          1\n",
      "12               Russia             6          0\n",
      "13                Spain            11          0\n",
      "14               Sweden             7          0\n",
      "15              Ukraine             5          0\n"
     ]
    }
   ],
   "source": [
    "print(\"\\nDiscipline dataframe:\\n\", discipline)"
   ]
  },
  {
   "cell_type": "code",
   "execution_count": 211,
   "id": "a842ec32",
   "metadata": {},
   "outputs": [
    {
     "name": "stdout",
     "output_type": "stream",
     "text": [
      "                   Team  Yellow Cards  Red Cards\n",
      "6                Greece             9          1\n",
      "9                Poland             7          1\n",
      "11  Republic of Ireland             6          1\n",
      "7                 Italy            16          0\n",
      "10             Portugal            12          0\n",
      "13                Spain            11          0\n",
      "0               Croatia             9          0\n",
      "1        Czech Republic             7          0\n",
      "14               Sweden             7          0\n",
      "4                France             6          0\n",
      "12               Russia             6          0\n",
      "3               England             5          0\n",
      "8           Netherlands             5          0\n",
      "15              Ukraine             5          0\n",
      "2               Denmark             4          0\n",
      "5               Germany             4          0\n"
     ]
    }
   ],
   "source": [
    "print(discipline_sorted)"
   ]
  },
  {
   "cell_type": "code",
   "execution_count": 212,
   "id": "bb98bb55",
   "metadata": {},
   "outputs": [
    {
     "name": "stdout",
     "output_type": "stream",
     "text": [
      "\n",
      "Mean Yellow Cards per Team: 7.4375\n"
     ]
    }
   ],
   "source": [
    "print(\"\\nMean Yellow Cards per Team:\", mean_yellow_cards)"
   ]
  },
  {
   "cell_type": "code",
   "execution_count": 213,
   "id": "e9c3fec4",
   "metadata": {},
   "outputs": [
    {
     "name": "stdout",
     "output_type": "stream",
     "text": [
      "\n",
      "Teams that scored more than 6 goals:        Team  Goals  Shots on target  Shots off target Shooting Accuracy  \\\n",
      "5   Germany     10               32                32             47.8%   \n",
      "13    Spain     12               42                33             55.9%   \n",
      "\n",
      "   % Goals-to-shots  Total shots (inc. Blocked)  Hit Woodwork  Penalty goals  \\\n",
      "5             15.6%                          80             2              1   \n",
      "13            16.0%                         100             0              1   \n",
      "\n",
      "    Penalties not scored  ...  Saves made  Saves-to-shots ratio  Fouls Won  \\\n",
      "5                      0  ...          10                 62.6%         63   \n",
      "13                     0  ...          15                 93.8%        102   \n",
      "\n",
      "   Fouls Conceded  Offsides  Yellow Cards  Red Cards  Subs on  Subs off  \\\n",
      "5              49        12             4          0       15        15   \n",
      "13             83        19            11          0       17        17   \n",
      "\n",
      "    Players Used  \n",
      "5             17  \n",
      "13            18  \n",
      "\n",
      "[2 rows x 35 columns]\n"
     ]
    }
   ],
   "source": [
    "print(\"\\nTeams that scored more than 6 goals:\", teams_over_6_goals)"
   ]
  },
  {
   "cell_type": "code",
   "execution_count": 214,
   "id": "31aa88f7",
   "metadata": {},
   "outputs": [
    {
     "name": "stdout",
     "output_type": "stream",
     "text": [
      "\n",
      "Teams starting with G:\n",
      "      Team  Goals  Shots on target  Shots off target Shooting Accuracy  \\\n",
      "5  Germany     10               32                32             47.8%   \n",
      "6   Greece      5                8                18             30.7%   \n",
      "\n",
      "  % Goals-to-shots  Total shots (inc. Blocked)  Hit Woodwork  Penalty goals  \\\n",
      "5            15.6%                          80             2              1   \n",
      "6            19.2%                          32             1              1   \n",
      "\n",
      "   Penalties not scored  ...  Saves made  Saves-to-shots ratio  Fouls Won  \\\n",
      "5                     0  ...          10                 62.6%         63   \n",
      "6                     1  ...          13                 65.1%         67   \n",
      "\n",
      "  Fouls Conceded  Offsides  Yellow Cards  Red Cards  Subs on  Subs off  \\\n",
      "5             49        12             4          0       15        15   \n",
      "6             48        12             9          1       12        12   \n",
      "\n",
      "   Players Used  \n",
      "5            17  \n",
      "6            20  \n",
      "\n",
      "[2 rows x 35 columns]\n"
     ]
    }
   ],
   "source": [
    "print(\"\\nTeams starting with G:\")\n",
    "print(teams_starting_with_G)"
   ]
  },
  {
   "cell_type": "code",
   "execution_count": 215,
   "id": "16eb3197",
   "metadata": {},
   "outputs": [
    {
     "name": "stdout",
     "output_type": "stream",
     "text": [
      "\n",
      "First 7 columns:\n",
      "                   Team  Goals  Shots on target  Shots off target  \\\n",
      "0               Croatia      4               13                12   \n",
      "1        Czech Republic      4               13                18   \n",
      "2               Denmark      4               10                10   \n",
      "3               England      5               11                18   \n",
      "4                France      3               22                24   \n",
      "5               Germany     10               32                32   \n",
      "6                Greece      5                8                18   \n",
      "7                 Italy      6               34                45   \n",
      "8           Netherlands      2               12                36   \n",
      "9                Poland      2               15                23   \n",
      "10             Portugal      6               22                42   \n",
      "11  Republic of Ireland      1                7                12   \n",
      "12               Russia      5                9                31   \n",
      "13                Spain     12               42                33   \n",
      "14               Sweden      5               17                19   \n",
      "15              Ukraine      2                7                26   \n",
      "\n",
      "   Shooting Accuracy % Goals-to-shots  Total shots (inc. Blocked)  \n",
      "0              51.9%            16.0%                          32  \n",
      "1              41.9%            12.9%                          39  \n",
      "2              50.0%            20.0%                          27  \n",
      "3              50.0%            17.2%                          40  \n",
      "4              37.9%             6.5%                          65  \n",
      "5              47.8%            15.6%                          80  \n",
      "6              30.7%            19.2%                          32  \n",
      "7              43.0%             7.5%                         110  \n",
      "8              25.0%             4.1%                          60  \n",
      "9              39.4%             5.2%                          48  \n",
      "10             34.3%             9.3%                          82  \n",
      "11             36.8%             5.2%                          28  \n",
      "12             22.5%            12.5%                          59  \n",
      "13             55.9%            16.0%                         100  \n",
      "14             47.2%            13.8%                          39  \n",
      "15             21.2%             6.0%                          38  \n"
     ]
    }
   ],
   "source": [
    "print(\"\\nFirst 7 columns:\")\n",
    "print(first_7_columns)"
   ]
  },
  {
   "cell_type": "code",
   "execution_count": 216,
   "id": "7bf22d56",
   "metadata": {},
   "outputs": [
    {
     "name": "stdout",
     "output_type": "stream",
     "text": [
      "\n",
      "All columns except the last 3:\n",
      "                   Team  Goals  Shots on target  Shots off target  \\\n",
      "0               Croatia      4               13                12   \n",
      "1        Czech Republic      4               13                18   \n",
      "2               Denmark      4               10                10   \n",
      "3               England      5               11                18   \n",
      "4                France      3               22                24   \n",
      "5               Germany     10               32                32   \n",
      "6                Greece      5                8                18   \n",
      "7                 Italy      6               34                45   \n",
      "8           Netherlands      2               12                36   \n",
      "9                Poland      2               15                23   \n",
      "10             Portugal      6               22                42   \n",
      "11  Republic of Ireland      1                7                12   \n",
      "12               Russia      5                9                31   \n",
      "13                Spain     12               42                33   \n",
      "14               Sweden      5               17                19   \n",
      "15              Ukraine      2                7                26   \n",
      "\n",
      "   Shooting Accuracy % Goals-to-shots  Total shots (inc. Blocked)  \\\n",
      "0              51.9%            16.0%                          32   \n",
      "1              41.9%            12.9%                          39   \n",
      "2              50.0%            20.0%                          27   \n",
      "3              50.0%            17.2%                          40   \n",
      "4              37.9%             6.5%                          65   \n",
      "5              47.8%            15.6%                          80   \n",
      "6              30.7%            19.2%                          32   \n",
      "7              43.0%             7.5%                         110   \n",
      "8              25.0%             4.1%                          60   \n",
      "9              39.4%             5.2%                          48   \n",
      "10             34.3%             9.3%                          82   \n",
      "11             36.8%             5.2%                          28   \n",
      "12             22.5%            12.5%                          59   \n",
      "13             55.9%            16.0%                         100   \n",
      "14             47.2%            13.8%                          39   \n",
      "15             21.2%             6.0%                          38   \n",
      "\n",
      "    Hit Woodwork  Penalty goals  Penalties not scored  ...  Clean Sheets  \\\n",
      "0              0              0                     0  ...             0   \n",
      "1              0              0                     0  ...             1   \n",
      "2              1              0                     0  ...             1   \n",
      "3              0              0                     0  ...             2   \n",
      "4              1              0                     0  ...             1   \n",
      "5              2              1                     0  ...             1   \n",
      "6              1              1                     1  ...             1   \n",
      "7              2              0                     0  ...             2   \n",
      "8              2              0                     0  ...             0   \n",
      "9              0              0                     0  ...             0   \n",
      "10             6              0                     0  ...             2   \n",
      "11             0              0                     0  ...             0   \n",
      "12             2              0                     0  ...             0   \n",
      "13             0              1                     0  ...             5   \n",
      "14             3              0                     0  ...             1   \n",
      "15             0              0                     0  ...             0   \n",
      "\n",
      "    Blocks  Goals conceded Saves made  Saves-to-shots ratio  Fouls Won  \\\n",
      "0       10               3         13                 81.3%         41   \n",
      "1       10               6          9                 60.1%         53   \n",
      "2       10               5         10                 66.7%         25   \n",
      "3       29               3         22                 88.1%         43   \n",
      "4        7               5          6                 54.6%         36   \n",
      "5       11               6         10                 62.6%         63   \n",
      "6       23               7         13                 65.1%         67   \n",
      "7       18               7         20                 74.1%        101   \n",
      "8        9               5         12                 70.6%         35   \n",
      "9        8               3          6                 66.7%         48   \n",
      "10      11               4         10                 71.5%         73   \n",
      "11      23               9         17                 65.4%         43   \n",
      "12       8               3         10                 77.0%         34   \n",
      "13       8               1         15                 93.8%        102   \n",
      "14      12               5          8                 61.6%         35   \n",
      "15       4               4         13                 76.5%         48   \n",
      "\n",
      "    Fouls Conceded  Offsides  Yellow Cards  Red Cards  \n",
      "0               62         2             9          0  \n",
      "1               73         8             7          0  \n",
      "2               38         8             4          0  \n",
      "3               45         6             5          0  \n",
      "4               51         5             6          0  \n",
      "5               49        12             4          0  \n",
      "6               48        12             9          1  \n",
      "7               89        16            16          0  \n",
      "8               30         3             5          0  \n",
      "9               56         3             7          1  \n",
      "10              90        10            12          0  \n",
      "11              51        11             6          1  \n",
      "12              43         4             6          0  \n",
      "13              83        19            11          0  \n",
      "14              51         7             7          0  \n",
      "15              31         4             5          0  \n",
      "\n",
      "[16 rows x 32 columns]\n"
     ]
    }
   ],
   "source": [
    "print(\"\\nAll columns except the last 3:\")\n",
    "print(all_except_last_3_columns)"
   ]
  },
  {
   "cell_type": "code",
   "execution_count": 217,
   "id": "0dd31ab2",
   "metadata": {},
   "outputs": [
    {
     "name": "stdout",
     "output_type": "stream",
     "text": [
      "\n",
      "Shooting Accuracy for England, Italy, and Russia:\n",
      "       Team Shooting Accuracy\n",
      "3   England             50.0%\n",
      "7     Italy             43.0%\n",
      "12   Russia             22.5%\n"
     ]
    }
   ],
   "source": [
    "print(\"\\nShooting Accuracy for England, Italy, and Russia:\")\n",
    "print(shooting_accuracy_selected_teams)"
   ]
  },
  {
   "cell_type": "code",
   "execution_count": 219,
   "id": "bfa40811",
   "metadata": {},
   "outputs": [
    {
     "name": "stdout",
     "output_type": "stream",
     "text": [
      "Question 3\n"
     ]
    }
   ],
   "source": [
    "print(\"Question 3\")\n",
    "import numpy as np"
   ]
  },
  {
   "cell_type": "code",
   "execution_count": 220,
   "id": "080694fd",
   "metadata": {},
   "outputs": [],
   "source": [
    "series1 = pd.Series(np.random.randint(1, 5, size=100))\n",
    "series2 = pd.Series(np.random.randint(1, 4, size=100))\n",
    "series3 = pd.Series(np.random.randint(10000, 30001, size=100))"
   ]
  },
  {
   "cell_type": "code",
   "execution_count": 221,
   "id": "33424117",
   "metadata": {},
   "outputs": [],
   "source": [
    "housing_df = pd.DataFrame({'bedrs': series1, 'bathrs': series2, 'price_sqr_meter': series3})"
   ]
  },
  {
   "cell_type": "code",
   "execution_count": 222,
   "id": "149ff93c",
   "metadata": {},
   "outputs": [],
   "source": [
    "housing_df.columns = ['bedrs', 'bathrs', 'price_sqr_meter']"
   ]
  },
  {
   "cell_type": "code",
   "execution_count": 223,
   "id": "115aca5e",
   "metadata": {},
   "outputs": [],
   "source": [
    "bigcolumn = pd.DataFrame(pd.concat([series1, series2, series3]))"
   ]
  },
  {
   "cell_type": "code",
   "execution_count": 224,
   "id": "1c981907",
   "metadata": {},
   "outputs": [
    {
     "name": "stdout",
     "output_type": "stream",
     "text": [
      "Is it true that it is going only until index 99? True\n"
     ]
    }
   ],
   "source": [
    "print(\"Is it true that it is going only until index 99?\", bigcolumn.index.max() == 99)"
   ]
  },
  {
   "cell_type": "code",
   "execution_count": 225,
   "id": "84cfa330",
   "metadata": {},
   "outputs": [],
   "source": [
    "bigcolumn.reset_index(drop=True, inplace=True)"
   ]
  },
  {
   "cell_type": "code",
   "execution_count": 226,
   "id": "57e71cc2",
   "metadata": {},
   "outputs": [
    {
     "name": "stdout",
     "output_type": "stream",
     "text": [
      "\n",
      "DataFrame 'housing_df':\n",
      "    bedrs  bathrs  price_sqr_meter\n",
      "0       4       3            22517\n",
      "1       2       1            14783\n",
      "2       3       2            13916\n",
      "3       4       1            26088\n",
      "4       4       3            11737\n",
      "..    ...     ...              ...\n",
      "95      1       2            27134\n",
      "96      3       2            15569\n",
      "97      1       3            14971\n",
      "98      3       1            10190\n",
      "99      1       3            27806\n",
      "\n",
      "[100 rows x 3 columns]\n",
      "\n",
      "DataFrame 'bigcolumn':\n",
      "         0\n",
      "0        4\n",
      "1        2\n",
      "2        3\n",
      "3        4\n",
      "4        4\n",
      "..     ...\n",
      "295  27134\n",
      "296  15569\n",
      "297  14971\n",
      "298  10190\n",
      "299  27806\n",
      "\n",
      "[300 rows x 1 columns]\n"
     ]
    }
   ],
   "source": [
    "print(\"\\nDataFrame 'housing_df':\")\n",
    "print(housing_df)\n",
    "print(\"\\nDataFrame 'bigcolumn':\")\n",
    "print(bigcolumn)"
   ]
  },
  {
   "cell_type": "code",
   "execution_count": 228,
   "id": "ee467639",
   "metadata": {},
   "outputs": [
    {
     "name": "stdout",
     "output_type": "stream",
     "text": [
      "Question 4\n"
     ]
    }
   ],
   "source": [
    "print(\"Question 4\")"
   ]
  },
  {
   "cell_type": "code",
   "execution_count": 229,
   "id": "9194bdd2",
   "metadata": {},
   "outputs": [],
   "source": [
    "file_path = \"C:\\Georgian Fall\\Math for Data Analytics\\Problem set 3\\wind.txt\"\n",
    "data = pd.read_table(file_path , sep=\"\\s+\", parse_dates=[[0, 1, 2]])"
   ]
  },
  {
   "cell_type": "code",
   "execution_count": 230,
   "id": "a237151f",
   "metadata": {},
   "outputs": [],
   "source": [
    "data.rename(columns={'Yr_Mo_Dy': 'Date'}, inplace=True)"
   ]
  },
  {
   "cell_type": "code",
   "execution_count": 231,
   "id": "cfc6640b",
   "metadata": {},
   "outputs": [],
   "source": [
    "def fix_year(x):\n",
    "    year = x.year - 100 if x.year > 1989 else x.year\n",
    "    return pd.to_datetime(str(year) + '-' + str(x.month) + '-' + str(x.day))\n",
    "\n",
    "data['Date'] = data['Date'].apply(fix_year)"
   ]
  },
  {
   "cell_type": "code",
   "execution_count": 232,
   "id": "8e7e0187",
   "metadata": {},
   "outputs": [],
   "source": [
    "data.set_index('Date', inplace=True)"
   ]
  },
  {
   "cell_type": "code",
   "execution_count": 233,
   "id": "0047b7bc",
   "metadata": {},
   "outputs": [],
   "source": [
    "missing_values_per_location = data.isnull().sum()"
   ]
  },
  {
   "cell_type": "code",
   "execution_count": 234,
   "id": "3148aaa4",
   "metadata": {},
   "outputs": [],
   "source": [
    "non_missing_values_total = data.notnull().sum().sum()"
   ]
  },
  {
   "cell_type": "code",
   "execution_count": 235,
   "id": "332102fb",
   "metadata": {},
   "outputs": [],
   "source": [
    "mean_windspeed = data.mean().mean()"
   ]
  },
  {
   "cell_type": "code",
   "execution_count": 236,
   "id": "3e227366",
   "metadata": {},
   "outputs": [],
   "source": [
    "loc_stats = data.describe(percentiles=[]).transpose()"
   ]
  },
  {
   "cell_type": "code",
   "execution_count": 237,
   "id": "94f75001",
   "metadata": {},
   "outputs": [],
   "source": [
    "day_stats = pd.DataFrame()\n",
    "day_stats['min'] = data.min(axis=1)\n",
    "day_stats['max'] = data.max(axis=1)\n",
    "day_stats['mean'] = data.mean(axis=1)\n",
    "day_stats['std'] = data.std(axis=1)"
   ]
  },
  {
   "cell_type": "code",
   "execution_count": 238,
   "id": "023fb6b1",
   "metadata": {},
   "outputs": [],
   "source": [
    "average_january_windspeed = data[data.index.month == 1].mean()"
   ]
  },
  {
   "cell_type": "code",
   "execution_count": 239,
   "id": "98ad5ace",
   "metadata": {},
   "outputs": [],
   "source": [
    "yearly_data = data.resample('Y').mean()"
   ]
  },
  {
   "cell_type": "code",
   "execution_count": 240,
   "id": "f5138610",
   "metadata": {},
   "outputs": [],
   "source": [
    "monthly_data = data.resample('M').mean()"
   ]
  },
  {
   "cell_type": "code",
   "execution_count": 241,
   "id": "c88c9966",
   "metadata": {},
   "outputs": [],
   "source": [
    "weekly_data = data.resample('W').mean()"
   ]
  },
  {
   "cell_type": "code",
   "execution_count": 242,
   "id": "7359b200",
   "metadata": {},
   "outputs": [],
   "source": [
    "weekly_stats = data.resample('W').agg(['min', 'max', 'mean', 'std']).iloc[:52]"
   ]
  },
  {
   "cell_type": "code",
   "execution_count": 243,
   "id": "fc0f9de5",
   "metadata": {},
   "outputs": [
    {
     "name": "stdout",
     "output_type": "stream",
     "text": [
      "Missing values per location:\n",
      "RPT    6\n",
      "VAL    3\n",
      "ROS    2\n",
      "KIL    5\n",
      "SHA    2\n",
      "BIR    0\n",
      "DUB    3\n",
      "CLA    2\n",
      "MUL    3\n",
      "CLO    1\n",
      "BEL    0\n",
      "MAL    4\n",
      "dtype: int64\n"
     ]
    }
   ],
   "source": [
    "print(\"Missing values per location:\")\n",
    "print(missing_values_per_location)"
   ]
  },
  {
   "cell_type": "code",
   "execution_count": 244,
   "id": "05c00cc6",
   "metadata": {},
   "outputs": [
    {
     "name": "stdout",
     "output_type": "stream",
     "text": [
      "\n",
      "Non-missing values total: 78857\n"
     ]
    }
   ],
   "source": [
    "print(\"\\nNon-missing values total:\", non_missing_values_total)"
   ]
  },
  {
   "cell_type": "code",
   "execution_count": 245,
   "id": "36d72634",
   "metadata": {},
   "outputs": [
    {
     "name": "stdout",
     "output_type": "stream",
     "text": [
      "\n",
      "Mean windspeed over all locations and times: 10.227982360836938\n"
     ]
    }
   ],
   "source": [
    "print(\"\\nMean windspeed over all locations and times:\", mean_windspeed)"
   ]
  },
  {
   "cell_type": "code",
   "execution_count": 246,
   "id": "69113bfa",
   "metadata": {},
   "outputs": [
    {
     "name": "stdout",
     "output_type": "stream",
     "text": [
      "\n",
      "Location statistics:\n",
      "      count       mean       std   min    50%    max\n",
      "RPT  6568.0  12.362987  5.618413  0.67  11.71  35.80\n",
      "VAL  6571.0  10.644314  5.267356  0.21  10.17  33.37\n",
      "ROS  6572.0  11.660526  5.008450  1.50  10.92  33.84\n",
      "KIL  6569.0   6.306468  3.605811  0.00   5.75  28.46\n",
      "SHA  6572.0  10.455834  4.936125  0.13   9.96  37.54\n",
      "BIR  6574.0   7.092254  3.968683  0.00   6.83  26.16\n",
      "DUB  6571.0   9.797343  4.977555  0.00   9.21  30.37\n",
      "CLA  6572.0   8.495053  4.499449  0.00   8.08  31.08\n",
      "MUL  6571.0   8.493590  4.166872  0.00   8.17  25.88\n",
      "CLO  6573.0   8.707332  4.503954  0.04   8.29  28.21\n",
      "BEL  6574.0  13.121007  5.835037  0.13  12.50  42.38\n",
      "MAL  6570.0  15.599079  6.699794  0.67  15.00  42.54\n"
     ]
    }
   ],
   "source": [
    "print(\"\\nLocation statistics:\")\n",
    "print(loc_stats)"
   ]
  },
  {
   "cell_type": "code",
   "execution_count": 247,
   "id": "df8523e4",
   "metadata": {},
   "outputs": [
    {
     "name": "stdout",
     "output_type": "stream",
     "text": [
      "\n",
      "Day statistics:\n",
      "             min    max       mean       std\n",
      "Date                                        \n",
      "1961-01-01  9.29  18.50  13.018182  2.808875\n",
      "1961-01-02  6.50  17.54  11.336364  3.188994\n",
      "1961-01-03  6.17  18.50  11.641818  3.681912\n",
      "1961-01-04  1.79  11.75   6.619167  3.198126\n",
      "1961-01-05  6.17  13.33  10.630000  2.445356\n",
      "...          ...    ...        ...       ...\n",
      "1978-12-27  8.08  40.08  16.708333  7.868076\n",
      "1978-12-28  5.00  41.46  15.150000  9.687857\n",
      "1978-12-29  8.71  29.58  14.890000  5.756836\n",
      "1978-12-30  9.13  28.79  15.367500  5.540437\n",
      "1978-12-31  9.59  27.29  15.402500  5.702483\n",
      "\n",
      "[6574 rows x 4 columns]\n"
     ]
    }
   ],
   "source": [
    "print(\"\\nDay statistics:\")\n",
    "print(day_stats)"
   ]
  },
  {
   "cell_type": "code",
   "execution_count": 248,
   "id": "1ed48e64",
   "metadata": {},
   "outputs": [
    {
     "name": "stdout",
     "output_type": "stream",
     "text": [
      "\n",
      "Average windspeed in January for each location:\n",
      "RPT    14.847325\n",
      "VAL    12.914560\n",
      "ROS    13.299624\n",
      "KIL     7.199498\n",
      "SHA    11.667734\n",
      "BIR     8.054839\n",
      "DUB    11.819355\n",
      "CLA     9.512047\n",
      "MUL     9.543208\n",
      "CLO    10.053566\n",
      "BEL    14.550520\n",
      "MAL    18.028763\n",
      "dtype: float64\n"
     ]
    }
   ],
   "source": [
    "print(\"\\nAverage windspeed in January for each location:\")\n",
    "print(average_january_windspeed)"
   ]
  },
  {
   "cell_type": "code",
   "execution_count": 249,
   "id": "05bb296e",
   "metadata": {},
   "outputs": [
    {
     "name": "stdout",
     "output_type": "stream",
     "text": [
      "\n",
      "Yearly downsampling:\n",
      "                  RPT        VAL        ROS       KIL        SHA       BIR  \\\n",
      "Date                                                                         \n",
      "1961-12-31  12.299583  10.351796  11.362369  6.958227  10.881763  7.729726   \n",
      "1962-12-31  12.246923  10.110438  11.732712  6.960440  10.657918  7.393068   \n",
      "1963-12-31  12.813452  10.836986  12.541151  7.330055  11.724110  8.434712   \n",
      "1964-12-31  12.363661  10.920164  12.104372  6.787787  11.454481  7.570874   \n",
      "1965-12-31  12.451370  11.075534  11.848767  6.858466  11.024795  7.478110   \n",
      "1966-12-31  13.461973  11.557205  12.020630  7.345726  11.805041  7.793671   \n",
      "1967-12-31  12.737151  10.990986  11.739397  7.143425  11.630740  7.368164   \n",
      "1968-12-31  11.835628  10.468197  11.409754  6.477678  10.760765  6.067322   \n",
      "1969-12-31  11.166356   9.723699  10.902000  5.767973   9.873918  6.189973   \n",
      "1970-12-31  12.600329  10.726932  11.730247  6.217178  10.567370  7.609452   \n",
      "1971-12-31  11.273123   9.095178  11.088329  5.241507   9.440329  6.097151   \n",
      "1972-12-31  12.463962  10.561311  12.058333  5.929699   9.430410  6.358825   \n",
      "1973-12-31  11.828466  10.680493  10.680493  5.547863   9.640877  6.548740   \n",
      "1974-12-31  13.643096  11.811781  12.336356  6.427041  11.110986  6.809781   \n",
      "1975-12-31  12.008575  10.293836  11.564712  5.269096   9.190082  5.668521   \n",
      "1976-12-31  11.737842  10.203115  10.761230  5.109426   8.846339  6.311038   \n",
      "1977-12-31  13.099616  11.144493  12.627836  6.073945  10.003836  8.586438   \n",
      "1978-12-31  12.504356  11.044274  11.380000  6.082356  10.167233  7.650658   \n",
      "\n",
      "                  DUB        CLA       MUL        CLO        BEL        MAL  \n",
      "Date                                                                         \n",
      "1961-12-31   9.733923   8.858788  8.647652   9.835577  13.502795  13.680773  \n",
      "1962-12-31  11.020712   8.793753  8.316822   9.676247  12.930685  14.323956  \n",
      "1963-12-31  11.075699  10.336548  8.903589  10.224438  13.638877  14.999014  \n",
      "1964-12-31  10.259153   9.467350  7.789016  10.207951  13.740546  14.910301  \n",
      "1965-12-31  10.618712   8.879918  7.907425   9.918082  12.964247  15.591644  \n",
      "1966-12-31  10.579808   8.835096  8.514438   9.768959  14.265836  16.307260  \n",
      "1967-12-31  10.652027   9.325616  8.645014   9.547425  14.774548  17.135945  \n",
      "1968-12-31   8.859180   8.255519  7.224945   7.832978  12.808634  15.017486  \n",
      "1969-12-31   8.564493   7.711397  7.924521   7.754384  12.621233  15.762904  \n",
      "1970-12-31   9.609890   8.334630  9.297616   8.289808  13.183644  16.456027  \n",
      "1971-12-31   8.385890   6.757315  7.915370   7.229753  12.208932  15.025233  \n",
      "1972-12-31   9.704508   7.680792  8.357295   7.515273  12.727377  15.028716  \n",
      "1973-12-31   8.482110   7.614274  8.245534   7.812411  12.169699  15.441096  \n",
      "1974-12-31  10.084603   9.896986  9.331753   8.736356  13.252959  16.947671  \n",
      "1975-12-31   8.562603   7.843836  8.797945   7.382822  12.631671  15.307863  \n",
      "1976-12-31   9.149126   7.146202  8.883716   7.883087  12.332377  15.471448  \n",
      "1977-12-31  11.523205   8.378384  9.098192   8.821616  13.459068  16.590849  \n",
      "1978-12-31   9.489342   8.800466  9.089753   8.301699  12.967397  16.771370  \n"
     ]
    }
   ],
   "source": [
    "print(\"\\nYearly downsampling:\")\n",
    "print(yearly_data)"
   ]
  },
  {
   "cell_type": "code",
   "execution_count": 250,
   "id": "4ac21661",
   "metadata": {},
   "outputs": [
    {
     "name": "stdout",
     "output_type": "stream",
     "text": [
      "\n",
      "Monthly downsampling:\n",
      "                  RPT        VAL        ROS       KIL        SHA        BIR  \\\n",
      "Date                                                                          \n",
      "1961-01-31  14.841333  11.988333  13.431613  7.736774  11.072759   8.588065   \n",
      "1961-02-28  16.269286  14.975357  14.441481  9.230741  13.852143  10.937500   \n",
      "1961-03-31  10.890000  11.296452  10.752903  7.284000  10.509355   8.866774   \n",
      "1961-04-30  10.722667   9.427667   9.998000  5.830667   8.435000   6.495000   \n",
      "1961-05-31   9.860968   8.850000  10.818065  5.905333   9.490323   6.574839   \n",
      "...               ...        ...        ...       ...        ...        ...   \n",
      "1978-08-31   9.645161   8.259355   9.032258  4.502903   7.368065   5.935161   \n",
      "1978-09-30  10.913667  10.895000  10.635000  5.725000  10.372000   9.278333   \n",
      "1978-10-31   9.897742   8.670968   9.295806  4.721290   8.525161   6.774194   \n",
      "1978-11-30  16.151667  14.802667  13.508000  7.317333  11.475000   8.743000   \n",
      "1978-12-31  16.175484  13.748065  15.635161  7.094839  11.398710   9.241613   \n",
      "\n",
      "                  DUB        CLA        MUL        CLO        BEL        MAL  \n",
      "Date                                                                          \n",
      "1961-01-31  11.184839   9.245333   9.085806  10.107419  13.880968  14.703226  \n",
      "1961-02-28  11.890714  11.846071  11.821429  12.714286  18.583214  15.411786  \n",
      "1961-03-31   9.644194   9.829677  10.294138  11.251935  16.410968  15.720000  \n",
      "1961-04-30   6.925333   7.094667   7.342333   7.237000  11.147333  10.278333  \n",
      "1961-05-31   7.604000   8.177097   8.039355   8.499355  11.900323  12.011613  \n",
      "...               ...        ...        ...        ...        ...        ...  \n",
      "1978-08-31   5.650323   5.417742   7.241290   5.536774  10.466774  12.054194  \n",
      "1978-09-30  10.790333   9.583000  10.069333   8.939000  15.680333  19.391333  \n",
      "1978-10-31   8.115484   7.337742   8.297742   8.243871  13.776774  17.150000  \n",
      "1978-11-30  11.492333   9.657333  10.701333  10.676000  17.404667  20.723000  \n",
      "1978-12-31  12.077419  10.194839  10.616774  11.028710  13.859677  21.371613  \n",
      "\n",
      "[216 rows x 12 columns]\n"
     ]
    }
   ],
   "source": [
    "print(\"\\nMonthly downsampling:\")\n",
    "print(monthly_data)"
   ]
  },
  {
   "cell_type": "code",
   "execution_count": 251,
   "id": "e83c5bae",
   "metadata": {},
   "outputs": [
    {
     "name": "stdout",
     "output_type": "stream",
     "text": [
      "\n",
      "Weekly downsampling:\n",
      "                  RPT        VAL        ROS        KIL        SHA        BIR  \\\n",
      "Date                                                                           \n",
      "1961-01-01  15.040000  14.960000  13.170000   9.290000        NaN   9.870000   \n",
      "1961-01-08  13.541429  11.486667  10.487143   6.417143   9.474286   6.435714   \n",
      "1961-01-15  12.468571   8.967143  11.958571   4.630000   7.351429   5.072857   \n",
      "1961-01-22  13.204286   9.862857  12.982857   6.328571   8.966667   7.417143   \n",
      "1961-01-29  19.880000  16.141429  18.225714  12.720000  17.432857  14.828571   \n",
      "...               ...        ...        ...        ...        ...        ...   \n",
      "1978-12-03  14.934286  11.232857  13.941429   5.565714  10.215714   8.618571   \n",
      "1978-12-10  20.740000  19.190000  17.034286   9.777143  15.287143  12.774286   \n",
      "1978-12-17  16.758571  14.692857  14.987143   6.917143  11.397143   7.272857   \n",
      "1978-12-24  11.155714   8.008571  13.172857   4.004286   7.825714   6.290000   \n",
      "1978-12-31  14.951429  11.801429  16.035714   6.507143   9.660000   8.620000   \n",
      "\n",
      "                  DUB        CLA        MUL        CLO        BEL        MAL  \n",
      "Date                                                                          \n",
      "1961-01-01  13.670000  10.250000  10.830000  12.580000  18.500000  15.040000  \n",
      "1961-01-08  11.061429   6.616667   8.434286   8.497143  12.481429  13.238571  \n",
      "1961-01-15   7.535714   6.820000   5.712857   7.571429  11.125714  11.024286  \n",
      "1961-01-22   9.257143   7.875714   7.145714   8.124286   9.821429  11.434286  \n",
      "1961-01-29  15.528571  15.160000  14.480000  15.640000  20.930000  22.530000  \n",
      "...               ...        ...        ...        ...        ...        ...  \n",
      "1978-12-03   9.642857   7.685714   9.011429   9.547143  11.835714  18.728571  \n",
      "1978-12-10  14.437143  12.488571  13.870000  14.082857  18.517143  23.061429  \n",
      "1978-12-17  10.208571   7.967143   9.168571   8.565714  11.102857  15.562857  \n",
      "1978-12-24   7.798571   8.667143   7.151429   8.072857  11.845714  18.977143  \n",
      "1978-12-31  13.708571  10.477143  10.868571  11.471429  12.947143  26.844286  \n",
      "\n",
      "[940 rows x 12 columns]\n"
     ]
    }
   ],
   "source": [
    "print(\"\\nWeekly downsampling:\")\n",
    "print(weekly_data)"
   ]
  },
  {
   "cell_type": "code",
   "execution_count": 252,
   "id": "4aac4879",
   "metadata": {},
   "outputs": [
    {
     "name": "stdout",
     "output_type": "stream",
     "text": [
      "\n",
      "Weekly statistics for the first 52 weeks:\n",
      "              RPT                                VAL                    \\\n",
      "              min    max       mean       std    min    max       mean   \n",
      "Date                                                                     \n",
      "1961-01-01  15.04  15.04  15.040000       NaN  14.96  14.96  14.960000   \n",
      "1961-01-08  10.58  18.50  13.541429  2.631321   6.63  16.88  11.486667   \n",
      "1961-01-15   9.04  19.75  12.468571  3.555392   3.54  12.08   8.967143   \n",
      "1961-01-22   4.92  19.83  13.204286  5.337402   3.42  14.37   9.862857   \n",
      "1961-01-29  13.62  25.04  19.880000  4.619061   9.96  23.91  16.141429   \n",
      "1961-02-05  10.58  24.21  16.827143  5.251408   9.46  24.21  15.460000   \n",
      "1961-02-12  16.00  24.54  19.684286  3.587677  11.54  21.42  16.417143   \n",
      "1961-02-19   6.04  22.50  15.130000  5.064609  11.63  20.17  15.091429   \n",
      "1961-02-26   7.79  25.80  15.221429  7.020716   7.08  21.50  13.625714   \n",
      "1961-03-05  10.96  13.33  12.101429  0.997721   8.83  17.00  12.951429   \n",
      "1961-03-12   4.88  14.79   9.376667  3.732263   8.08  16.96  11.578571   \n",
      "1961-03-19   4.92  16.88  11.911429  3.860036   9.46  15.54  13.501429   \n",
      "1961-03-26   6.29  15.00   9.567143  3.613298   2.58  11.63   8.387143   \n",
      "1961-04-02   5.88  18.25  10.757143  5.046922   3.50  16.29   8.852857   \n",
      "1961-04-09   4.50  18.12  11.964286  4.604392   7.04  14.62  10.654286   \n",
      "1961-04-16   4.71  15.50   8.965714  3.937727   4.83  12.25   8.000000   \n",
      "1961-04-23   4.00  21.09  12.621429  5.676655   3.71  15.41  10.438571   \n",
      "1961-04-30   4.08  16.29  10.117143  4.349662   6.50  14.46   9.798571   \n",
      "1961-05-07   9.87  23.00  15.367143  5.025507  10.29  19.79  13.970000   \n",
      "1961-05-14   3.54  12.79   7.772857  3.371022   3.96  15.12   8.712857   \n",
      "1961-05-21   4.88  15.04   8.225714  3.631730   3.58  10.17   5.631667   \n",
      "1961-05-28   4.96  11.79   8.155714  2.739433   3.67  12.50   7.388571   \n",
      "1961-06-04   7.00  15.92  10.321429  3.099701   4.75   9.79   7.407143   \n",
      "1961-06-11   8.29  14.42  10.917143  2.248597   6.83  11.54   8.992857   \n",
      "1961-06-18   6.13  14.33  10.571429  3.009482   4.12  14.54   9.565714   \n",
      "1961-06-25   4.00   9.00   7.345714  1.982035   3.25   9.50   6.108571   \n",
      "1961-07-02   7.21  13.13  10.236667  2.557856   6.34  14.37   9.482857   \n",
      "1961-07-09   7.29  17.50  11.715714  3.664855   3.75  10.75   7.220000   \n",
      "1961-07-16   8.63  22.50  16.680000  5.168710   7.87  19.29  13.518571   \n",
      "1961-07-23   3.04   5.88   4.202857  1.047978   2.92   6.79   4.255714   \n",
      "1961-07-30   6.13  16.08  10.561429  4.157641   4.63  13.79   8.445714   \n",
      "1961-08-06   7.67  16.08  10.870000  2.950887   5.09  15.79   8.792857   \n",
      "1961-08-13   2.88  14.21  10.058333  4.422268   4.42  10.00   7.941429   \n",
      "1961-08-20  13.13  18.91  15.607143  2.283635   7.25  13.62  10.565714   \n",
      "1961-08-27   7.67  18.16  12.391429  3.395857   6.87  14.58  11.430000   \n",
      "1961-09-03   3.63  14.46   8.678571  4.398615   1.13  22.00   8.821429   \n",
      "1961-09-10   5.00  17.62  10.541429  5.207278   3.04  13.59   8.798571   \n",
      "1961-09-17   5.33  28.75  17.160000  7.679190   7.12  22.08  14.440000   \n",
      "1961-09-24   6.92  10.25   8.500000  1.267399   2.92  13.62   7.154286   \n",
      "1961-10-01  10.34  23.21  16.044286  4.559572   6.96  13.62  11.361667   \n",
      "1961-10-08   3.13  16.08  11.250000  5.596710   3.63  16.96   8.757143   \n",
      "1961-10-15   3.71  17.12  10.881667  4.780675   6.13  13.25   9.734286   \n",
      "1961-10-22  10.46  28.62  19.260000  7.888314   3.75  19.46  13.364286   \n",
      "1961-10-29   4.33  26.42  16.077143  7.957637   2.75  21.25  11.867143   \n",
      "1961-11-05   5.88  15.79  11.571429  3.369201   3.96  13.46   9.590000   \n",
      "1961-11-12   5.46  16.08  10.428571  3.939811   5.50  10.75   7.690000   \n",
      "1961-11-19   7.50  15.00  10.798571  2.784358   4.21  13.00   7.951429   \n",
      "1961-11-26   5.75  14.29   9.154286  3.214368   3.29  11.79   7.337143   \n",
      "1961-12-03   7.92  23.75  12.608571  5.704669   4.67  18.71  10.442857   \n",
      "1961-12-10  10.83  23.71  17.362857  4.890152   9.21  21.37  14.362857   \n",
      "1961-12-17   9.29  21.34  14.985714  4.095106   8.63  17.62  13.472857   \n",
      "1961-12-24  11.46  24.41  15.757143  4.959717   9.79  16.13  11.971429   \n",
      "\n",
      "                        ROS         ...        CLO              BEL         \\\n",
      "                 std    min    max  ...       mean       std    min    max   \n",
      "Date                                ...                                      \n",
      "1961-01-01       NaN  13.17  13.17  ...  12.580000       NaN  18.50  18.50   \n",
      "1961-01-08  3.949525   7.62  12.33  ...   8.497143  1.704941   5.46  17.54   \n",
      "1961-01-15  3.148945   7.08  19.50  ...   7.571429  4.084293   5.25  20.71   \n",
      "1961-01-22  3.837785   7.29  20.79  ...   8.124286  4.783952   6.50  15.92   \n",
      "1961-01-29  5.170224  12.67  25.84  ...  15.640000  3.713368  14.04  27.71   \n",
      "1961-02-05  5.187395   9.04  19.70  ...   9.460000  2.839501   9.17  19.33   \n",
      "1961-02-12  3.608373  13.67  21.34  ...  14.440000  1.746749  15.21  26.38   \n",
      "1961-02-19  3.575012   6.13  19.41  ...  13.542857  2.531361  14.09  29.63   \n",
      "1961-02-26  5.147348   6.08  22.42  ...  12.730000  4.920064   9.59  23.21   \n",
      "1961-03-05  2.851955   8.17  13.67  ...  12.370000  1.593685  11.58  23.45   \n",
      "1961-03-12  3.230167   7.54  16.38  ...  10.458571  3.655113  10.21  22.71   \n",
      "1961-03-19  2.352867   5.25  13.96  ...  11.627143  3.099472  11.29  22.79   \n",
      "1961-03-26  3.657265   4.79  15.63  ...  11.481429  2.538224   8.25  21.34   \n",
      "1961-04-02  4.687315   5.09  14.96  ...   9.631429  3.191115   7.21  18.63   \n",
      "1961-04-09  2.845399   9.29  18.29  ...   7.238571  2.336182   7.62  17.16   \n",
      "1961-04-16  2.607118   3.92  15.79  ...   6.178571  2.161137   5.75  16.17   \n",
      "1961-04-23  4.631736   3.33  17.00  ...   9.551429  3.347972   6.75  19.21   \n",
      "1961-04-30  2.871425   2.54  14.96  ...   6.124286  2.840568   5.13  13.04   \n",
      "1961-05-07  3.750835   8.42  21.21  ...  11.585714  3.620819   4.79  28.08   \n",
      "1961-05-14  3.782947   4.63  12.33  ...   7.822857  5.460237   6.54  18.66   \n",
      "1961-05-21  2.468906   5.91  15.96  ...   7.114286  2.216889   6.63  12.00   \n",
      "1961-05-28  3.378537   3.58  20.96  ...   7.535714  2.575661   6.13  14.33   \n",
      "1961-06-04  1.868125   6.83  15.96  ...   9.035714  2.096989   8.71  17.00   \n",
      "1961-06-11  1.524836   6.04  11.58  ...   8.397143  2.158323   5.37  16.17   \n",
      "1961-06-18  3.509444   6.50  15.50  ...   9.594286  3.792400   7.29  25.25   \n",
      "1961-06-25  2.212460   5.13  10.37  ...  11.257143  2.286218  11.00  19.08   \n",
      "1961-07-02  2.902411   7.62  10.79  ...  10.268571  1.564144   6.96  21.87   \n",
      "1961-07-09  2.686658   7.41  14.92  ...  10.547143  3.657179   7.08  20.41   \n",
      "1961-07-16  3.849630   8.00  14.29  ...  10.157143  3.271899   5.04  20.25   \n",
      "1961-07-23  1.400010   4.08  12.67  ...   6.041429  1.439785   4.21  10.13   \n",
      "1961-07-30  3.203206   6.42  15.67  ...   9.470000  4.350268   7.87  22.17   \n",
      "1961-08-06  3.985226   5.54  15.59  ...   8.951429  2.903018   6.17  18.54   \n",
      "1961-08-13  2.053326   6.00  11.63  ...   7.235000  2.073777   5.88  14.29   \n",
      "1961-08-20  2.523416   9.17  14.04  ...  12.244286  2.730237   9.59  21.92   \n",
      "1961-08-27  3.174702   9.50  17.83  ...  12.507143  3.855302   5.75  23.38   \n",
      "1961-09-03  7.474025   2.42  12.75  ...   8.924286  3.993736   4.79  24.71   \n",
      "1961-09-10  4.003996   3.63  14.88  ...   7.565714  3.649278   5.41  15.83   \n",
      "1961-09-17  5.360585   7.29  26.50  ...  14.268571  5.128338  13.92  23.91   \n",
      "1961-09-24  3.445262   5.33  12.17  ...   6.798571  2.354092   4.54  20.96   \n",
      "1961-10-01  2.812482   7.87  17.58  ...  11.840000  3.908397   7.79  21.37   \n",
      "1961-10-08  5.060803   4.96  17.83  ...   7.662857  4.296870   4.79  17.83   \n",
      "1961-10-15  2.707483   4.21  20.96  ...   9.494286  3.569308   8.54  20.46   \n",
      "1961-10-22  5.998199   9.92  22.63  ...  16.461429  5.890511  10.88  24.71   \n",
      "1961-10-29  6.879973   4.79  23.09  ...  12.952857  6.277629   8.50  27.29   \n",
      "1961-11-05  3.900278   6.54  14.33  ...  11.864286  2.784450  10.29  20.17   \n",
      "1961-11-12  2.141191   3.83  20.41  ...   6.415714  2.843518   6.13  12.58   \n",
      "1961-11-19  3.208548   6.46  32.71  ...   6.031429  4.402588   0.71   9.59   \n",
      "1961-11-26  3.277904   4.42  14.46  ...   9.582857  2.747452   6.50  20.46   \n",
      "1961-12-03  5.107089   8.00  19.92  ...   7.911429  3.680477   5.50  19.04   \n",
      "1961-12-10  4.115506   9.71  20.54  ...  12.022857  4.156207  10.71  21.79   \n",
      "1961-12-17  3.587886   9.04  19.00  ...  11.058571  4.633398   5.50  22.83   \n",
      "1961-12-24  2.220866   8.08  22.13  ...   7.697143  4.637096   5.29  17.67   \n",
      "\n",
      "                                   MAL                              \n",
      "                 mean       std    min    max       mean       std  \n",
      "Date                                                                \n",
      "1961-01-01  18.500000       NaN  15.04  15.04  15.040000       NaN  \n",
      "1961-01-08  12.481429  4.349139  10.88  16.46  13.238571  1.773062  \n",
      "1961-01-15  11.125714  5.552215   5.17  16.92  11.024286  4.692355  \n",
      "1961-01-22   9.821429  3.626584   6.79  17.96  11.434286  4.237239  \n",
      "1961-01-29  20.930000  5.210726  17.50  27.63  22.530000  3.874721  \n",
      "1961-02-05  14.012857  4.210858   7.17  19.25  11.935714  4.336104  \n",
      "1961-02-12  21.832857  4.063753  17.04  21.84  19.155714  1.828705  \n",
      "1961-02-19  21.167143  5.910938  10.96  22.58  16.584286  4.685377  \n",
      "1961-02-26  16.304286  5.091162   6.67  23.87  14.322857  6.182283  \n",
      "1961-03-05  17.842857  4.332331   8.83  17.54  13.951667  3.021387  \n",
      "1961-03-12  16.701429  4.358759   5.54  22.54  14.420000  5.769890  \n",
      "1961-03-19  19.350000  3.779727  11.34  22.95  16.227143  4.331958  \n",
      "1961-03-26  14.037143  4.318069  13.13  22.50  18.134286  3.701846  \n",
      "1961-04-02  13.471429  4.179854   7.17  19.58  13.900000  3.924555  \n",
      "1961-04-09  11.712857  3.147781   7.21  15.34  11.371429  2.598271  \n",
      "1961-04-16   9.482857  3.641464   5.66  12.87   8.690000  2.747842  \n",
      "1961-04-23  13.620000  4.735096   4.96  20.46  12.470000  5.908542  \n",
      "1961-04-30   9.720000  2.948237   2.67  17.50   8.637143  5.108365  \n",
      "1961-05-07  17.548571  8.003490   3.83  26.58  14.571429  7.728504  \n",
      "1961-05-14  10.421429  3.968272   3.33  26.30  10.382857  7.858246  \n",
      "1961-05-21   9.624286  1.975853   5.91  14.96  10.612857  3.310819  \n",
      "1961-05-28  10.518571  3.024524   8.00  17.04  11.697143  3.811818  \n",
      "1961-06-04  12.298571  2.611139  10.63  17.96  13.597143  2.593586  \n",
      "1961-06-11  10.148571  3.993062   5.96  19.83  12.250000  4.925055  \n",
      "1961-06-18  15.351429  6.477887   6.13  24.71  15.025714  6.242673  \n",
      "1961-06-25  14.370000  2.498386  13.75  21.50  17.410000  3.063011  \n",
      "1961-07-02  14.535714  6.303747   8.50  16.79  12.133333  3.652313  \n",
      "1961-07-09  12.220000  4.537988  12.08  21.29  15.987143  3.665705  \n",
      "1961-07-16  13.520000  4.971060   5.96  21.96  12.524286  4.974273  \n",
      "1961-07-23   7.524286  2.050218   5.41  10.92   8.415714  2.133994  \n",
      "1961-07-30  12.841429  5.580903   6.13  25.37  13.761429  6.664574  \n",
      "1961-08-06  11.595714  4.901377   9.08  20.25  13.760000  4.448251  \n",
      "1961-08-13  10.934286  2.931302   5.88  15.16  10.125714  3.356585  \n",
      "1961-08-20  14.922857  4.086725  13.04  24.30  16.626667  3.934238  \n",
      "1961-08-27  16.251429  6.711322   8.29  22.29  16.485714  4.947608  \n",
      "1961-09-03  13.664286  7.678051   5.41  22.54  11.022857  6.308087  \n",
      "1961-09-10  10.700000  4.220584   3.37  20.25  11.034286  6.049619  \n",
      "1961-09-17  19.878571  4.464252  14.67  33.09  18.984286  6.332885  \n",
      "1961-09-24  11.018571  5.235868   5.25  14.62   9.814286  3.113507  \n",
      "1961-10-01  16.208571  5.091268   4.04  17.16  13.338571  4.696504  \n",
      "1961-10-08   8.810000  4.800403   4.83  19.62  11.410000  5.462002  \n",
      "1961-10-15  14.451429  4.113200  10.75  21.04  15.260000  4.098130  \n",
      "1961-10-22  17.477143  5.645871  13.46  33.45  23.641429  7.468377  \n",
      "1961-10-29  15.592857  7.056150   9.83  30.88  18.404286  8.340881  \n",
      "1961-11-05  16.322857  4.038493  13.37  23.58  19.195714  3.870800  \n",
      "1961-11-12   9.208571  2.532196   5.71  15.54  10.858571  3.690752  \n",
      "1961-11-19   5.875714  3.643285   2.00  13.25   5.737143  3.787654  \n",
      "1961-11-26  11.772857  5.407223   4.25  22.58  12.732857  6.475867  \n",
      "1961-12-03  11.464286  5.552648   5.88  21.29  14.725714  5.233192  \n",
      "1961-12-10  15.975714  4.667933   7.58  29.33  16.241429  7.345893  \n",
      "1961-12-17  15.112857  6.531043   6.50  21.12  14.644286  5.665006  \n",
      "1961-12-24   9.958571  5.065308   2.62  16.62   8.164286  5.048035  \n",
      "\n",
      "[52 rows x 48 columns]\n"
     ]
    }
   ],
   "source": [
    "print(\"\\nWeekly statistics for the first 52 weeks:\")\n",
    "print(weekly_stats)"
   ]
  },
  {
   "cell_type": "code",
   "execution_count": 281,
   "id": "8e843500",
   "metadata": {},
   "outputs": [
    {
     "name": "stdout",
     "output_type": "stream",
     "text": [
      "Question 5\n"
     ]
    }
   ],
   "source": [
    "print(\"Question 5\")"
   ]
  },
  {
   "cell_type": "code",
   "execution_count": 282,
   "id": "1dae454c",
   "metadata": {},
   "outputs": [],
   "source": [
    "url = \"https://raw.githubusercontent.com/justmarkham/DAT8/master/data/chipotle.tsv\"\n",
    "chipo = pd.read_csv(url, sep='\\t')"
   ]
  },
  {
   "cell_type": "code",
   "execution_count": 283,
   "id": "a4f63c12",
   "metadata": {},
   "outputs": [
    {
     "name": "stdout",
     "output_type": "stream",
     "text": [
      "First 10 entries:\n",
      "   order_id  quantity                              item_name  \\\n",
      "0         1         1           Chips and Fresh Tomato Salsa   \n",
      "1         1         1                                   Izze   \n",
      "2         1         1                       Nantucket Nectar   \n",
      "3         1         1  Chips and Tomatillo-Green Chili Salsa   \n",
      "4         2         2                           Chicken Bowl   \n",
      "5         3         1                           Chicken Bowl   \n",
      "6         3         1                          Side of Chips   \n",
      "7         4         1                          Steak Burrito   \n",
      "8         4         1                       Steak Soft Tacos   \n",
      "9         5         1                          Steak Burrito   \n",
      "\n",
      "                                  choice_description item_price  \n",
      "0                                                NaN     $2.39   \n",
      "1                                       [Clementine]     $3.39   \n",
      "2                                            [Apple]     $3.39   \n",
      "3                                                NaN     $2.39   \n",
      "4  [Tomatillo-Red Chili Salsa (Hot), [Black Beans...    $16.98   \n",
      "5  [Fresh Tomato Salsa (Mild), [Rice, Cheese, Sou...    $10.98   \n",
      "6                                                NaN     $1.69   \n",
      "7  [Tomatillo Red Chili Salsa, [Fajita Vegetables...    $11.75   \n",
      "8  [Tomatillo Green Chili Salsa, [Pinto Beans, Ch...     $9.25   \n",
      "9  [Fresh Tomato Salsa, [Rice, Black Beans, Pinto...     $9.25   \n"
     ]
    }
   ],
   "source": [
    "print(\"First 10 entries:\")\n",
    "print(chipo.head(10))"
   ]
  },
  {
   "cell_type": "code",
   "execution_count": 284,
   "id": "b9dcf57a",
   "metadata": {},
   "outputs": [],
   "source": [
    "num_observations = len(chipo)"
   ]
  },
  {
   "cell_type": "code",
   "execution_count": 285,
   "id": "d5d8a2b9",
   "metadata": {},
   "outputs": [],
   "source": [
    "num_columns = len(chipo.columns)"
   ]
  },
  {
   "cell_type": "code",
   "execution_count": 286,
   "id": "8a1ae702",
   "metadata": {},
   "outputs": [
    {
     "name": "stdout",
     "output_type": "stream",
     "text": [
      "\n",
      "Column names:\n",
      "Index(['order_id', 'quantity', 'item_name', 'choice_description',\n",
      "       'item_price'],\n",
      "      dtype='object')\n"
     ]
    }
   ],
   "source": [
    "print(\"\\nColumn names:\")\n",
    "print(chipo.columns)"
   ]
  },
  {
   "cell_type": "code",
   "execution_count": 287,
   "id": "e0d99579",
   "metadata": {},
   "outputs": [
    {
     "name": "stdout",
     "output_type": "stream",
     "text": [
      "\n",
      "Indexing information:\n",
      "RangeIndex(start=0, stop=4622, step=1)\n"
     ]
    }
   ],
   "source": [
    "print(\"\\nIndexing information:\")\n",
    "print(chipo.index)"
   ]
  },
  {
   "cell_type": "code",
   "execution_count": 288,
   "id": "5b191aaf",
   "metadata": {},
   "outputs": [],
   "source": [
    "most_ordered_item = chipo['item_name'].mode().iloc[0]"
   ]
  },
  {
   "cell_type": "code",
   "execution_count": 289,
   "id": "2556611c",
   "metadata": {},
   "outputs": [],
   "source": [
    "most_ordered_item_quantity = chipo[chipo['item_name'] == most_ordered_item]['quantity'].sum()"
   ]
  },
  {
   "cell_type": "code",
   "execution_count": 290,
   "id": "ea9eb178",
   "metadata": {},
   "outputs": [],
   "source": [
    "most_ordered_choice_description = chipo['choice_description'].mode().iloc[0]"
   ]
  },
  {
   "cell_type": "code",
   "execution_count": 291,
   "id": "2e8040e1",
   "metadata": {},
   "outputs": [],
   "source": [
    "total_items_ordered = chipo['quantity'].sum()"
   ]
  },
  {
   "cell_type": "code",
   "execution_count": 292,
   "id": "9f85e8fd",
   "metadata": {},
   "outputs": [],
   "source": [
    "chipo['item_price'] = chipo['item_price'].apply(lambda x: float(x[1:-1]))"
   ]
  },
  {
   "cell_type": "code",
   "execution_count": 293,
   "id": "c2562495",
   "metadata": {},
   "outputs": [
    {
     "name": "stdout",
     "output_type": "stream",
     "text": [
      "\n",
      "Item price type after conversion:\n",
      "0        2.39\n",
      "1        3.39\n",
      "2        3.39\n",
      "3        2.39\n",
      "4       16.98\n",
      "        ...  \n",
      "4617    11.75\n",
      "4618    11.75\n",
      "4619    11.25\n",
      "4620     8.75\n",
      "4621     8.75\n",
      "Name: item_price, Length: 4622, dtype: float64\n"
     ]
    }
   ],
   "source": [
    "print(\"\\nItem price type after conversion:\")\n",
    "print(chipo['item_price'])"
   ]
  },
  {
   "cell_type": "code",
   "execution_count": 294,
   "id": "bfaa0194",
   "metadata": {},
   "outputs": [],
   "source": [
    "revenue = (chipo['quantity'] * chipo['item_price']).sum()"
   ]
  },
  {
   "cell_type": "code",
   "execution_count": 295,
   "id": "6a3ed489",
   "metadata": {},
   "outputs": [],
   "source": [
    "num_orders = chipo['order_id'].nunique()"
   ]
  },
  {
   "cell_type": "code",
   "execution_count": 296,
   "id": "6afd4662",
   "metadata": {},
   "outputs": [],
   "source": [
    "average_revenue_per_order = revenue / num_orders"
   ]
  },
  {
   "cell_type": "code",
   "execution_count": 297,
   "id": "0c2ac068",
   "metadata": {},
   "outputs": [],
   "source": [
    "num_different_items = chipo['item_name'].nunique()"
   ]
  },
  {
   "cell_type": "code",
   "execution_count": 298,
   "id": "eb13fa63",
   "metadata": {},
   "outputs": [
    {
     "name": "stdout",
     "output_type": "stream",
     "text": [
      "\n",
      "Number of observations in the dataset: 4622\n"
     ]
    }
   ],
   "source": [
    "print(\"\\nNumber of observations in the dataset:\", num_observations)"
   ]
  },
  {
   "cell_type": "code",
   "execution_count": 299,
   "id": "d31e2e4d",
   "metadata": {},
   "outputs": [
    {
     "name": "stdout",
     "output_type": "stream",
     "text": [
      "Number of columns in the dataset: 5\n"
     ]
    }
   ],
   "source": [
    "print(\"Number of columns in the dataset:\", num_columns)"
   ]
  },
  {
   "cell_type": "code",
   "execution_count": 300,
   "id": "28ad6eaf",
   "metadata": {},
   "outputs": [
    {
     "name": "stdout",
     "output_type": "stream",
     "text": [
      "Most-ordered item: Chicken Bowl\n"
     ]
    }
   ],
   "source": [
    "print(\"Most-ordered item:\", most_ordered_item)"
   ]
  },
  {
   "cell_type": "code",
   "execution_count": 301,
   "id": "c797e9cf",
   "metadata": {},
   "outputs": [
    {
     "name": "stdout",
     "output_type": "stream",
     "text": [
      "Quantity of most-ordered item: 761\n"
     ]
    }
   ],
   "source": [
    "print(\"Quantity of most-ordered item:\", most_ordered_item_quantity)"
   ]
  },
  {
   "cell_type": "code",
   "execution_count": 302,
   "id": "7d524dba",
   "metadata": {},
   "outputs": [
    {
     "name": "stdout",
     "output_type": "stream",
     "text": [
      "Most-ordered item in choice_description column: [Diet Coke]\n"
     ]
    }
   ],
   "source": [
    "print(\"Most-ordered item in choice_description column:\", most_ordered_choice_description)"
   ]
  },
  {
   "cell_type": "code",
   "execution_count": 303,
   "id": "4e67825b",
   "metadata": {},
   "outputs": [
    {
     "name": "stdout",
     "output_type": "stream",
     "text": [
      "Total items ordered: 4972\n"
     ]
    }
   ],
   "source": [
    "print(\"Total items ordered:\", total_items_ordered)"
   ]
  },
  {
   "cell_type": "code",
   "execution_count": 304,
   "id": "dc71b227",
   "metadata": {},
   "outputs": [
    {
     "name": "stdout",
     "output_type": "stream",
     "text": [
      "Revenue for the period: 39237.02\n"
     ]
    }
   ],
   "source": [
    "print(\"Revenue for the period:\", revenue)"
   ]
  },
  {
   "cell_type": "code",
   "execution_count": 305,
   "id": "8bcb82b6",
   "metadata": {},
   "outputs": [
    {
     "name": "stdout",
     "output_type": "stream",
     "text": [
      "Number of orders made in the period: 1834\n"
     ]
    }
   ],
   "source": [
    "print(\"Number of orders made in the period:\", num_orders)"
   ]
  },
  {
   "cell_type": "code",
   "execution_count": 306,
   "id": "5d97029d",
   "metadata": {},
   "outputs": [
    {
     "name": "stdout",
     "output_type": "stream",
     "text": [
      "Average revenue amount per order: 21.39423118865867\n"
     ]
    }
   ],
   "source": [
    "print(\"Average revenue amount per order:\", average_revenue_per_order)"
   ]
  },
  {
   "cell_type": "code",
   "execution_count": 307,
   "id": "c1a5b324",
   "metadata": {},
   "outputs": [
    {
     "name": "stdout",
     "output_type": "stream",
     "text": [
      "Number of different items sold: 50\n"
     ]
    }
   ],
   "source": [
    "print(\"Number of different items sold:\", num_different_items)"
   ]
  },
  {
   "cell_type": "code",
   "execution_count": 310,
   "id": "bca2adbc",
   "metadata": {},
   "outputs": [
    {
     "name": "stdout",
     "output_type": "stream",
     "text": [
      "Question 6\n"
     ]
    }
   ],
   "source": [
    "print(\"Question 6\")\n",
    "import matplotlib.pyplot as plt"
   ]
  },
  {
   "cell_type": "code",
   "execution_count": 311,
   "id": "8e631622",
   "metadata": {},
   "outputs": [],
   "source": [
    "file_path = \"C:\\\\Georgian Fall\\\\Math for Data Analytics\\\\Problem set 3\\\\us_marriage.csv\"\n",
    "df = pd.read_csv(file_path)"
   ]
  },
  {
   "cell_type": "code",
   "execution_count": 312,
   "id": "c5e655d7",
   "metadata": {},
   "outputs": [],
   "source": [
    "df['Marriages_per_capita'] = df['Marriages'] / 3000 \n",
    "df['Divorces_per_capita'] = df['Divorces'] / 3000   "
   ]
  },
  {
   "cell_type": "code",
   "execution_count": 313,
   "id": "6fd0dd81",
   "metadata": {},
   "outputs": [
    {
     "data": {
      "image/png": "[encoded data removed]",
      "text/plain": [
       "<Figure size 1000x600 with 1 Axes>"
      ]
     },
     "metadata": {},
     "output_type": "display_data"
    }
   ],
   "source": [
    "plt.figure(figsize=(10, 6))\n",
    "plt.plot(df['Year'], df['Marriages_per_capita'], label='Marriages per Capita', color='green')\n",
    "plt.plot(df['Year'], df['Divorces_per_capita'], label='Divorces per Capita', color='red')\n",
    "plt.xlabel('Year')\n",
    "plt.ylabel('Per Capita Count')\n",
    "plt.title('Number of Marriages and Divorces per Capita in the U.S. (1867-2014)')\n",
    "handles, labels = plt.gca().get_legend_handles_labels()\n",
    "plt.legend(handles, labels)\n",
    "plt.show()"
   ]
  },
  {
   "cell_type": "code",
   "execution_count": 315,
   "id": "cc5539b5",
   "metadata": {},
   "outputs": [
    {
     "name": "stdout",
     "output_type": "stream",
     "text": [
      "Question 7\n"
     ]
    }
   ],
   "source": [
    "print(\"Question 7\")"
   ]
  },
  {
   "cell_type": "code",
   "execution_count": 316,
   "id": "f41cba84",
   "metadata": {},
   "outputs": [],
   "source": [
    "file_path = \"C:\\\\Georgian Fall\\\\Math for Data Analytics\\\\Problem set 3\\\\us_marriage.csv\"\n",
    "df = pd.read_csv(file_path)"
   ]
  },
  {
   "cell_type": "code",
   "execution_count": 317,
   "id": "1ba1867c",
   "metadata": {},
   "outputs": [],
   "source": [
    "selected_years = [1900, 1950, 2000]\n",
    "df_selected_years = df[df['Year'].isin(selected_years)]"
   ]
  },
  {
   "cell_type": "code",
   "execution_count": 318,
   "id": "1384fa9c",
   "metadata": {},
   "outputs": [
    {
     "data": {
      "text/plain": [
       "<Figure size 800x600 with 0 Axes>"
      ]
     },
     "metadata": {},
     "output_type": "display_data"
    }
   ],
   "source": [
    "plt.figure(figsize=(8, 6))\n",
    "bar_width = 4"
   ]
  },
  {
   "cell_type": "code",
   "execution_count": 319,
   "id": "bcaa5790",
   "metadata": {},
   "outputs": [
    {
     "data": {
      "image/png": "[encoded data removed]",
      "text/plain": [
       "<Figure size 640x480 with 1 Axes>"
      ]
     },
     "metadata": {},
     "output_type": "display_data"
    }
   ],
   "source": [
    "plt.bar(df_selected_years['Year'], df_selected_years['Marriages'],\n",
    "        bar_width, label='Marriages per Capita', color='green')\n",
    "\n",
    "plt.bar(df_selected_years['Year'] + bar_width, df_selected_years['Divorces'],\n",
    "        bar_width, label='Divorces per Capita', color='red')\n",
    "\n",
    "plt.xlabel('Year')\n",
    "plt.ylabel('Per Capita Count')\n",
    "plt.title('Number of Marriages and Divorces per Capita in the U.S. (1900, 1950, 2000)')\n",
    "plt.xticks(df_selected_years['Year'] + bar_width / 2, df_selected_years['Year'])\n",
    "plt.legend()\n",
    "\n",
    "plt.show()"
   ]
  },
  {
   "cell_type": "code",
   "execution_count": 322,
   "id": "65785e8b",
   "metadata": {},
   "outputs": [
    {
     "name": "stdout",
     "output_type": "stream",
     "text": [
      "Question 8\n"
     ]
    }
   ],
   "source": [
    "print(\"Question 8\")"
   ]
  },
  {
   "cell_type": "code",
   "execution_count": 323,
   "id": "9ddddcda",
   "metadata": {},
   "outputs": [
    {
     "name": "stdout",
     "output_type": "stream",
     "text": [
      "Index(['Actor', 'Count'], dtype='object')\n"
     ]
    }
   ],
   "source": [
    "file_path = \"C:\\\\Georgian Fall\\\\Math for Data Analytics\\\\Problem set 3\\\\actor_kill_counts.csv\"\n",
    "df = pd.read_csv(file_path)\n",
    "print(df.columns)"
   ]
  },
  {
   "cell_type": "code",
   "execution_count": 324,
   "id": "5935bcfb",
   "metadata": {},
   "outputs": [],
   "source": [
    "df_sorted = df.sort_values(by='Count', ascending=True)"
   ]
  },
  {
   "cell_type": "code",
   "execution_count": 325,
   "id": "3a8e58ca",
   "metadata": {},
   "outputs": [
    {
     "data": {
      "image/png": "[encoded data removed]",
      "text/plain": [
       "<Figure size 1000x800 with 1 Axes>"
      ]
     },
     "metadata": {},
     "output_type": "display_data"
    }
   ],
   "source": [
    "plt.figure(figsize=(10, 8))\n",
    "plt.barh(df_sorted['Actor'], df_sorted['Count'], color='red')\n",
    "plt.xlabel('Count')\n",
    "plt.ylabel('Actor')\n",
    "plt.title('The most Deadliest Actors in Hollywood')\n",
    "plt.show()"
   ]
  },
  {
   "cell_type": "code",
   "execution_count": 326,
   "id": "71307810",
   "metadata": {},
   "outputs": [
    {
     "name": "stdout",
     "output_type": "stream",
     "text": [
      "Question 9\n"
     ]
    }
   ],
   "source": [
    "print(\"Question 9\")"
   ]
  },
  {
   "cell_type": "code",
   "execution_count": 336,
   "id": "35c4663c",
   "metadata": {},
   "outputs": [],
   "source": [
    "file_path = \"C:\\\\Georgian Fall\\\\Math for Data Analytics\\\\Problem set 3\\\\roman-emperor-reigns.csv\"\n",
    "df = pd.read_csv(file_path)\n",
    "assassinated_count = (df['Cause_of_Death'] == 'Assassinated').sum()\n",
    "assassinated_percentage = (assassinated_count / df.shape[0]) * 100"
   ]
  },
  {
   "cell_type": "code",
   "execution_count": 337,
   "id": "ec16fc81",
   "metadata": {},
   "outputs": [
    {
     "data": {
      "image/png": "[encoded data removed]",
      "text/plain": [
       "<Figure size 800x800 with 1 Axes>"
      ]
     },
     "metadata": {},
     "output_type": "display_data"
    }
   ],
   "source": [
    "plt.figure(figsize=(8, 8))\n",
    "plt.pie([assassinated_count, df.shape[0] - assassinated_count],\n",
    "        labels=['Assassinated', 'Not Assassinated'],\n",
    "        autopct=lambda p: '{:.1f}%\\n({:d})'.format(p, int(round(p * len(df) / 100))),\n",
    "        startangle=140)\n",
    "\n",
    "plt.title('Fraction of Roman Emperors Assassinated')\n",
    "plt.show()"
   ]
  },
  {
   "cell_type": "code",
   "execution_count": 338,
   "id": "d7453b19",
   "metadata": {},
   "outputs": [
    {
     "name": "stdout",
     "output_type": "stream",
     "text": [
      "Question 10\n"
     ]
    }
   ],
   "source": [
    "print(\"Question 10\")"
   ]
  },
  {
   "cell_type": "code",
   "execution_count": 345,
   "id": "8042ec3a",
   "metadata": {},
   "outputs": [],
   "source": [
    "import pandas as pd\n",
    "import matplotlib.pyplot as plt\n",
    "import seaborn as sns"
   ]
  },
  {
   "cell_type": "code",
   "execution_count": 349,
   "id": "c3736b5b",
   "metadata": {},
   "outputs": [],
   "source": [
    "df = pd.read_csv('C:\\\\Georgian Fall\\\\Math for Data Analytics\\\\Problem set 3\\\\arcade-revenue-vs-cs-doctorates.csv')  \n",
    "df_filtered = df[(df['Year'] >= 2000) & (df['Year'] <= 2009)]"
   ]
  },
  {
   "cell_type": "code",
   "execution_count": 350,
   "id": "8b09647c",
   "metadata": {},
   "outputs": [
    {
     "data": {
      "image/png": "[encoded data removed]",
      "text/plain": [
       "<Figure size 1000x600 with 2 Axes>"
      ]
     },
     "metadata": {},
     "output_type": "display_data"
    }
   ],
   "source": [
    "plt.figure(figsize=(10, 6))\n",
    "plt.scatter(df_filtered['Total Arcade Revenue (billions)'], df_filtered['Computer Science Doctorates Awarded (US)'], c=df_filtered['Year'], cmap='viridis', alpha=0.7)\n",
    "plt.colorbar(label='Year')\n",
    "plt.title('Relationship Between Arcade Revenue and Computer Science PhDs (2000-2009)')\n",
    "plt.xlabel('Total Arcade Revenue (billions)')\n",
    "plt.ylabel('Computer Science Doctorates Awarded (US)')\n",
    "plt.grid(True)\n",
    "plt.show()"
   ]
  },
  {
   "cell_type": "code",
   "execution_count": null,
   "id": "a8d7e8db",
   "metadata": {},
   "outputs": [],
   "source": []
  }
 ],
 "metadata": {
  "kernelspec": {
   "display_name": "Python 3 (ipykernel)",
   "language": "python",
   "name": "python3"
  },
  "language_info": {
   "codemirror_mode": {
    "name": "ipython",
    "version": 3
   },
   "file_extension": ".py",
   "mimetype": "text/x-python",
   "name": "python",
   "nbconvert_exporter": "python",
   "pygments_lexer": "ipython3",
   "version": "3.11.4"
  }
 },
 "nbformat": 4,
 "nbformat_minor": 5
}
